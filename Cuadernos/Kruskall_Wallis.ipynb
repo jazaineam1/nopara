{
  "nbformat": 4,
  "nbformat_minor": 0,
  "metadata": {
    "colab": {
      "provenance": [],
      "include_colab_link": true
    },
    "kernelspec": {
      "name": "ir",
      "display_name": "R"
    },
    "language_info": {
      "name": "R"
    }
  },
  "cells": [
    {
      "cell_type": "markdown",
      "metadata": {
        "id": "view-in-github",
        "colab_type": "text"
      },
      "source": [
        "<a href=\"https://colab.research.google.com/github/jazaineam1/nopara/blob/main/Cuadernos/Kruskall_Wallis.ipynb\" target=\"_parent\"><img src=\"https://colab.research.google.com/assets/colab-badge.svg\" alt=\"Open In Colab\"/></a>"
      ]
    },
    {
      "cell_type": "markdown",
      "source": [
        "## **Test de Kruskal-Wallis**\n",
        "\n",
        "## ***Fundación Universidad de América***\n",
        ">## **Estadística y Ciencias Actuariales**\n",
        ">## ***Estadística No Paramétrica***\n",
        "<img src=\"https://congresoambiental.car.gov.co/wp-content/uploads/2022/08/uniAmerica.png\" alt=\"Imágen1\" width=\"600\" height=\"200\">"
      ],
      "metadata": {
        "id": "mTzFKne8StCY"
      }
    },
    {
      "cell_type": "markdown",
      "source": [
        "\n",
        "\n",
        "El Test de Kruskal-Wallis, conocido también como la prueba H, representa una alternativa no paramétrica al ANOVA tradicional para comparar más de dos grupos cuando los datos no están relacionados. Este método extiende el enfoque del Test de Mann-Whitney para múltiples grupos y se basa en el uso de rangos para evaluar si diversas muestras provienen de una población común.\n",
        "\n",
        "A diferencia de ANOVA, que compara medias entre los grupos, el Test de Kruskal-Wallis examina si las muestras provienen de una distribución uniforme, lo que implica que comparten una población común. En esencia, aunque con simplificaciones, puede decirse que este test se orienta a comparar medianas entre los grupos. Las hipótesis son:\n",
        "\n",
        "$$H_0: \\text{todas las muestras provienen de la misma población o distribución.$$ En contraste, la hipótesis alternativa} $$ $$H_a: \\text{al menos una de las muestras proviene de una distribución distinta}$$.\n",
        "\n",
        "Este test resulta especialmente útil cuando los datos presentan un orden inherente o cuando no se cumplen los supuestos necesarios para realizar un ANOVA. Por ejemplo, en estudios de diferencias de rendimiento, se puede recurrir a los tiempos totales de los participantes (para ANOVA) o a sus posiciones finales (para el Test de Kruskal-Wallis).\n",
        "\n",
        "El Test se aplica a k grupos con n observaciones cada uno. Después de ordenar y asignar rangos a todas las observaciones, se espera que, bajo la hipótesis nula, los rangos sumados en cada grupo sean similares. De esta premisa se deriva el estadístico H:\n",
        "\n",
        "$$H = \\frac{12}{N(N+1)} \\sum_{i=1}^{k} \\frac{R_i^2}{n_i} - 3(N+1) $$\n",
        "\n",
        "Condiciones para el Test de Kruskal-Wallis:\n",
        "\n",
        "- No se requiere que las muestras sigan una distribución normal.\n",
        "- Se espera homocedasticidad, o igualdad de varianzas entre los grupos, suponiendo que todas las muestras vienen de la misma población y comparten medianas similares.\n",
        "- Los grupos deben tener distribuciones idénticas, aunque no necesariamente normales, como podría ser el caso de todas con sesgo hacia el mismo lado.\n",
        "\n",
        "El estadístico H se compara según los casos:\n",
        "\n",
        "- Para k = 3 grupos con no más de 5 observaciones cada uno, se utilizan tablas predefinidas de H.\n",
        "- Para otros casos, H sigue una distribución χ² con k-1 grados de libertad.\n",
        "\n",
        "Aunque ANOVA puede ser robusto frente a desviaciones de la normalidad, especialmente con tamaños de muestra medios o grandes, se prefiere el Test de Kruskal-Wallis cuando las muestras son asimétricas, con la misma dirección de sesgo y varianzas homogéneas. Para varianzas heterogéneas, se recomienda un ANOVA ajustado por Welch. El ANOVA no es adecuado para datos puramente ordinales, donde el Test de Kruskal-Wallis es la mejor opción."
      ],
      "metadata": {
        "id": "uPfL7KNsOxzP"
      }
    },
    {
      "cell_type": "markdown",
      "source": [
        "## Comparaciones Post-Hoc\n",
        "\n",
        "\n",
        "Al igual que ocurre con un ANOVA, si el test de Kruskal-Wallis es significativo, implica que al menos dos grupos de entre los comparados son significativamente diferentes, pero no indica cuales. Para saberlo es necesario compararlos todos entre ellos. Esto implica realizar una corrección del nivel de significancia para evitar incrementar el error de tipo I. Los dos métodos de comparación post-hoc más empleados para un test de Kruskal-Wallis son:\n",
        "\n",
        "Test de Mann-Whitney entre cada par de grupos con corrección de significancia pairwise.wilcox.test().\n",
        "\n",
        "Tukey’s range test: en R existe la función kruskalmc() del paquete pgirmess."
      ],
      "metadata": {
        "id": "wPjk2woUPakP"
      }
    },
    {
      "cell_type": "markdown",
      "source": [
        "## Ejemplo\n",
        "Hollander y Wolfe discuten en su trabajo un pequeño estudio que evaluó la eficiencia mucociliar a partir de la tasa de polvo en tres grupos diferentes: sujetos normales, sujetos con enfermedad obstructiva de las vías aéreas y sujetos con asbestosis. Las respuestas miden los tiempos de limpieza mucociliar de los sujetos, representando el tiempo que tarda en reducirse a la mitad la cantidad de moco. Los tamaños de las muestras son pequeños: n1 = n3 = 5 y n2 = 4, lo que suma un total de n = 14 sujetos. Los datos se presentan en vectores de R denominados normal, obstruct y asbestosis."
      ],
      "metadata": {
        "id": "kfbYrV7LPuOI"
      }
    },
    {
      "cell_type": "code",
      "source": [
        "normal <- c(3.9,3.0,2.5,2.6,3.2)\n",
        "obstruct <- c(3.8,2.7,3.0,2.4)\n",
        "asbestosis <- c(3.8,4.4,4.7,3.2,3.0)\n",
        "x <- c(normal,obstruct,asbestosis)\n",
        "g <- c(rep('Normal',5),rep('Obstruct',4),rep('asbestosis',5))\n",
        "\n",
        "\n",
        "df=data.frame(Tratamiento=g,mucosidad=x)\n",
        "df"
      ],
      "metadata": {
        "colab": {
          "base_uri": "https://localhost:8080/",
          "height": 537
        },
        "id": "1EJ-3yBrP0Na",
        "outputId": "2ac42bb7-e3fe-4999-95ed-b40eec95c6f6"
      },
      "execution_count": null,
      "outputs": [
        {
          "output_type": "display_data",
          "data": {
            "text/html": [
              "<table class=\"dataframe\">\n",
              "<caption>A data.frame: 14 × 2</caption>\n",
              "<thead>\n",
              "\t<tr><th scope=col>Tratamiento</th><th scope=col>mucosidad</th></tr>\n",
              "\t<tr><th scope=col>&lt;chr&gt;</th><th scope=col>&lt;dbl&gt;</th></tr>\n",
              "</thead>\n",
              "<tbody>\n",
              "\t<tr><td>Normal    </td><td>3.9</td></tr>\n",
              "\t<tr><td>Normal    </td><td>3.0</td></tr>\n",
              "\t<tr><td>Normal    </td><td>2.5</td></tr>\n",
              "\t<tr><td>Normal    </td><td>2.6</td></tr>\n",
              "\t<tr><td>Normal    </td><td>3.2</td></tr>\n",
              "\t<tr><td>Obstruct  </td><td>3.8</td></tr>\n",
              "\t<tr><td>Obstruct  </td><td>2.7</td></tr>\n",
              "\t<tr><td>Obstruct  </td><td>3.0</td></tr>\n",
              "\t<tr><td>Obstruct  </td><td>2.4</td></tr>\n",
              "\t<tr><td>asbestosis</td><td>3.8</td></tr>\n",
              "\t<tr><td>asbestosis</td><td>4.4</td></tr>\n",
              "\t<tr><td>asbestosis</td><td>4.7</td></tr>\n",
              "\t<tr><td>asbestosis</td><td>3.2</td></tr>\n",
              "\t<tr><td>asbestosis</td><td>3.0</td></tr>\n",
              "</tbody>\n",
              "</table>\n"
            ],
            "text/markdown": "\nA data.frame: 14 × 2\n\n| Tratamiento &lt;chr&gt; | mucosidad &lt;dbl&gt; |\n|---|---|\n| Normal     | 3.9 |\n| Normal     | 3.0 |\n| Normal     | 2.5 |\n| Normal     | 2.6 |\n| Normal     | 3.2 |\n| Obstruct   | 3.8 |\n| Obstruct   | 2.7 |\n| Obstruct   | 3.0 |\n| Obstruct   | 2.4 |\n| asbestosis | 3.8 |\n| asbestosis | 4.4 |\n| asbestosis | 4.7 |\n| asbestosis | 3.2 |\n| asbestosis | 3.0 |\n\n",
            "text/latex": "A data.frame: 14 × 2\n\\begin{tabular}{ll}\n Tratamiento & mucosidad\\\\\n <chr> & <dbl>\\\\\n\\hline\n\t Normal     & 3.9\\\\\n\t Normal     & 3.0\\\\\n\t Normal     & 2.5\\\\\n\t Normal     & 2.6\\\\\n\t Normal     & 3.2\\\\\n\t Obstruct   & 3.8\\\\\n\t Obstruct   & 2.7\\\\\n\t Obstruct   & 3.0\\\\\n\t Obstruct   & 2.4\\\\\n\t asbestosis & 3.8\\\\\n\t asbestosis & 4.4\\\\\n\t asbestosis & 4.7\\\\\n\t asbestosis & 3.2\\\\\n\t asbestosis & 3.0\\\\\n\\end{tabular}\n",
            "text/plain": [
              "   Tratamiento mucosidad\n",
              "1  Normal      3.9      \n",
              "2  Normal      3.0      \n",
              "3  Normal      2.5      \n",
              "4  Normal      2.6      \n",
              "5  Normal      3.2      \n",
              "6  Obstruct    3.8      \n",
              "7  Obstruct    2.7      \n",
              "8  Obstruct    3.0      \n",
              "9  Obstruct    2.4      \n",
              "10 asbestosis  3.8      \n",
              "11 asbestosis  4.4      \n",
              "12 asbestosis  4.7      \n",
              "13 asbestosis  3.2      \n",
              "14 asbestosis  3.0      "
            ]
          },
          "metadata": {}
        }
      ]
    },
    {
      "cell_type": "code",
      "source": [
        "aggregate(mucosidad ~ Tratamiento, data = df, FUN = median)"
      ],
      "metadata": {
        "colab": {
          "base_uri": "https://localhost:8080/",
          "height": 192
        },
        "id": "vPC0NPe3QUry",
        "outputId": "7fde6e45-016b-47f7-97ca-e396ab2e94f0"
      },
      "execution_count": null,
      "outputs": [
        {
          "output_type": "display_data",
          "data": {
            "text/html": [
              "<table class=\"dataframe\">\n",
              "<caption>A data.frame: 3 × 2</caption>\n",
              "<thead>\n",
              "\t<tr><th scope=col>Tratamiento</th><th scope=col>mucosidad</th></tr>\n",
              "\t<tr><th scope=col>&lt;chr&gt;</th><th scope=col>&lt;dbl&gt;</th></tr>\n",
              "</thead>\n",
              "<tbody>\n",
              "\t<tr><td>asbestosis</td><td>3.80</td></tr>\n",
              "\t<tr><td>Normal    </td><td>3.00</td></tr>\n",
              "\t<tr><td>Obstruct  </td><td>2.85</td></tr>\n",
              "</tbody>\n",
              "</table>\n"
            ],
            "text/markdown": "\nA data.frame: 3 × 2\n\n| Tratamiento &lt;chr&gt; | mucosidad &lt;dbl&gt; |\n|---|---|\n| asbestosis | 3.80 |\n| Normal     | 3.00 |\n| Obstruct   | 2.85 |\n\n",
            "text/latex": "A data.frame: 3 × 2\n\\begin{tabular}{ll}\n Tratamiento & mucosidad\\\\\n <chr> & <dbl>\\\\\n\\hline\n\t asbestosis & 3.80\\\\\n\t Normal     & 3.00\\\\\n\t Obstruct   & 2.85\\\\\n\\end{tabular}\n",
            "text/plain": [
              "  Tratamiento mucosidad\n",
              "1 asbestosis  3.80     \n",
              "2 Normal      3.00     \n",
              "3 Obstruct    2.85     "
            ]
          },
          "metadata": {}
        }
      ]
    },
    {
      "cell_type": "code",
      "source": [
        "aggregate(mucosidad ~ Tratamiento, data = df, FUN = sd)"
      ],
      "metadata": {
        "colab": {
          "base_uri": "https://localhost:8080/",
          "height": 192
        },
        "id": "fQ2PL8obQZ-8",
        "outputId": "2a957332-0683-4152-b445-2d9de6334804"
      },
      "execution_count": null,
      "outputs": [
        {
          "output_type": "display_data",
          "data": {
            "text/html": [
              "<table class=\"dataframe\">\n",
              "<caption>A data.frame: 3 × 2</caption>\n",
              "<thead>\n",
              "\t<tr><th scope=col>Tratamiento</th><th scope=col>mucosidad</th></tr>\n",
              "\t<tr><th scope=col>&lt;chr&gt;</th><th scope=col>&lt;dbl&gt;</th></tr>\n",
              "</thead>\n",
              "<tbody>\n",
              "\t<tr><td>asbestosis</td><td>0.7362065</td></tr>\n",
              "\t<tr><td>Normal    </td><td>0.5594640</td></tr>\n",
              "\t<tr><td>Obstruct  </td><td>0.6020797</td></tr>\n",
              "</tbody>\n",
              "</table>\n"
            ],
            "text/markdown": "\nA data.frame: 3 × 2\n\n| Tratamiento &lt;chr&gt; | mucosidad &lt;dbl&gt; |\n|---|---|\n| asbestosis | 0.7362065 |\n| Normal     | 0.5594640 |\n| Obstruct   | 0.6020797 |\n\n",
            "text/latex": "A data.frame: 3 × 2\n\\begin{tabular}{ll}\n Tratamiento & mucosidad\\\\\n <chr> & <dbl>\\\\\n\\hline\n\t asbestosis & 0.7362065\\\\\n\t Normal     & 0.5594640\\\\\n\t Obstruct   & 0.6020797\\\\\n\\end{tabular}\n",
            "text/plain": [
              "  Tratamiento mucosidad\n",
              "1 asbestosis  0.7362065\n",
              "2 Normal      0.5594640\n",
              "3 Obstruct    0.6020797"
            ]
          },
          "metadata": {}
        }
      ]
    },
    {
      "cell_type": "code",
      "source": [
        "install.packages(c('ggplot','car'))"
      ],
      "metadata": {
        "colab": {
          "base_uri": "https://localhost:8080/"
        },
        "id": "H09ykxNOQg9B",
        "outputId": "8569c152-5890-44ae-b99d-dcb4d18ae90b"
      },
      "execution_count": null,
      "outputs": [
        {
          "output_type": "stream",
          "name": "stderr",
          "text": [
            "Installing packages into ‘/usr/local/lib/R/site-library’\n",
            "(as ‘lib’ is unspecified)\n",
            "\n",
            "Warning message:\n",
            "“package ‘ggplot’ is not available for this version of R\n",
            "\n",
            "A version of this package for your version of R might be available elsewhere,\n",
            "see the ideas at\n",
            "https://cran.r-project.org/doc/manuals/r-patched/R-admin.html#Installing-packages”\n"
          ]
        }
      ]
    },
    {
      "cell_type": "code",
      "source": [
        "library(ggplot2)\n",
        "\n",
        "ggplot(data = df, mapping = aes(x = Tratamiento, y = mucosidad, colour = Tratamiento)) +\n",
        "    geom_boxplot() +\n",
        "    theme_bw() +\n",
        "    theme(legend.position = \"none\")"
      ],
      "metadata": {
        "colab": {
          "base_uri": "https://localhost:8080/",
          "height": 437
        },
        "id": "VvfZ9WIYQfCF",
        "outputId": "5eed7f14-3be5-4d90-c812-445bad62bab6"
      },
      "execution_count": null,
      "outputs": [
        {
          "output_type": "display_data",
          "data": {
            "text/plain": [
              "plot without title"
            ],
            "image/png": "[encoded data removed]"
          },
          "metadata": {
            "image/png": {
              "width": 420,
              "height": 420
            }
          }
        }
      ]
    },
    {
      "cell_type": "markdown",
      "source": [
        "La representación gráfica de los datos muestra que las muestras no se distribuyen de forma normal, lo que supone una limitación para emplear un test ANOVA.\n",
        "\n",
        "**Condiciones**\n",
        "\n",
        "Homocedasticidad: la varianza debe de ser constante entre todos los grupos."
      ],
      "metadata": {
        "id": "UjgFsDfqQxkQ"
      }
    },
    {
      "cell_type": "code",
      "source": [
        "library(car)\n",
        "leveneTest(mucosidad ~ Tratamiento, data = df, center = \"median\")"
      ],
      "metadata": {
        "id": "QULO3dHlQ20n",
        "colab": {
          "base_uri": "https://localhost:8080/",
          "height": 195
        },
        "outputId": "fa4bd62d-2ba4-46e5-ed8f-35b6f292e47c"
      },
      "execution_count": null,
      "outputs": [
        {
          "output_type": "stream",
          "name": "stderr",
          "text": [
            "Warning message in leveneTest.default(y = y, group = group, ...):\n",
            "“group coerced to factor.”\n"
          ]
        },
        {
          "output_type": "display_data",
          "data": {
            "text/html": [
              "<table class=\"dataframe\">\n",
              "<caption>A anova: 2 × 3</caption>\n",
              "<thead>\n",
              "\t<tr><th></th><th scope=col>Df</th><th scope=col>F value</th><th scope=col>Pr(&gt;F)</th></tr>\n",
              "\t<tr><th></th><th scope=col>&lt;int&gt;</th><th scope=col>&lt;dbl&gt;</th><th scope=col>&lt;dbl&gt;</th></tr>\n",
              "</thead>\n",
              "<tbody>\n",
              "\t<tr><th scope=row>group</th><td> 2</td><td>0.3721504</td><td>0.6976062</td></tr>\n",
              "\t<tr><th scope=row> </th><td>11</td><td>       NA</td><td>       NA</td></tr>\n",
              "</tbody>\n",
              "</table>\n"
            ],
            "text/markdown": "\nA anova: 2 × 3\n\n| <!--/--> | Df &lt;int&gt; | F value &lt;dbl&gt; | Pr(&gt;F) &lt;dbl&gt; |\n|---|---|---|---|\n| group |  2 | 0.3721504 | 0.6976062 |\n| <!----> | 11 |        NA |        NA |\n\n",
            "text/latex": "A anova: 2 × 3\n\\begin{tabular}{r|lll}\n  & Df & F value & Pr(>F)\\\\\n  & <int> & <dbl> & <dbl>\\\\\n\\hline\n\tgroup &  2 & 0.3721504 & 0.6976062\\\\\n\t  & 11 &        NA &        NA\\\\\n\\end{tabular}\n",
            "text/plain": [
              "      Df F value   Pr(>F)   \n",
              "group  2 0.3721504 0.6976062\n",
              "      11        NA        NA"
            ]
          },
          "metadata": {}
        }
      ]
    },
    {
      "cell_type": "code",
      "source": [
        "kruskal.test(mucosidad ~ Tratamiento, data = df)"
      ],
      "metadata": {
        "id": "5GTkuaBDRILE",
        "colab": {
          "base_uri": "https://localhost:8080/",
          "height": 104
        },
        "outputId": "2f23dfd9-428c-470e-8bb1-ca07bbae3107"
      },
      "execution_count": null,
      "outputs": [
        {
          "output_type": "display_data",
          "data": {
            "text/plain": [
              "\n",
              "\tKruskal-Wallis rank sum test\n",
              "\n",
              "data:  mucosidad by Tratamiento\n",
              "Kruskal-Wallis chi-squared = 3.8978, df = 2, p-value = 0.1424\n"
            ]
          },
          "metadata": {}
        }
      ]
    },
    {
      "cell_type": "markdown",
      "source": [
        "El test encuentra significancia en la diferencia de al menos dos grupos.\n",
        "\n",
        "\n",
        "## Comparaciones post-hoc para saber que dos grupos difieren\n",
        "\n",
        "Existen diferentes métodos de corrección del nivel de significancia, entre ellos destacan el de Bonferroni que es muy estricto y el de Holm, este último parece ser más recomendado.\n",
        "\n",
        "El método de Holm en las pruebas post-hoc de Kruskal-Wallis es una técnica de ajuste para múltiples comparaciones, usada para controlar la tasa de error de Tipo I (la probabilidad de rechazar incorrectamente una hipótesis nula verdadera) cuando se realizan varias pruebas estadísticas simultáneas. Esta situación suele presentarse después de que un test de Kruskal-Wallis indica diferencias significativas entre tres o más grupos, y deseamos determinar entre qué pares de grupos existen esas diferencias.\n",
        "\n",
        "Cuando aplicamos la corrección de Holm, las hipótesis individuales (por ejemplo, las comparaciones entre pares de grupos) se ordenan de acuerdo a sus niveles de significancia p, de menor a mayor. La corrección de Holm ajusta los valores p comparándolos con un umbral decreciente que depende del rango de la comparación y del número total de comparaciones."
      ],
      "metadata": {
        "id": "T1QmD9wtRPqE"
      }
    },
    {
      "cell_type": "code",
      "source": [
        "pairwise.wilcox.test(x = df$mucosidad, g = df$Tratamiento, p.adjust.method = \"holm\" )"
      ],
      "metadata": {
        "id": "rYtzW5fQRXxb",
        "colab": {
          "base_uri": "https://localhost:8080/",
          "height": 295
        },
        "outputId": "d3fb6e1f-c59b-4093-e43a-bd8833fcbd17"
      },
      "execution_count": null,
      "outputs": [
        {
          "output_type": "stream",
          "name": "stderr",
          "text": [
            "Warning message in wilcox.test.default(xi, xj, paired = paired, ...):\n",
            "“cannot compute exact p-value with ties”\n",
            "Warning message in wilcox.test.default(xi, xj, paired = paired, ...):\n",
            "“cannot compute exact p-value with ties”\n",
            "Warning message in wilcox.test.default(xi, xj, paired = paired, ...):\n",
            "“cannot compute exact p-value with ties”\n"
          ]
        },
        {
          "output_type": "display_data",
          "data": {
            "text/plain": [
              "\n",
              "\tPairwise comparisons using Wilcoxon rank sum test with continuity correction \n",
              "\n",
              "data:  df$mucosidad and df$Tratamiento \n",
              "\n",
              "         asbestosis Normal\n",
              "Normal   0.33       -     \n",
              "Obstruct 0.33       0.81  \n",
              "\n",
              "P value adjustment method: holm "
            ]
          },
          "metadata": {}
        }
      ]
    },
    {
      "cell_type": "markdown",
      "source": [
        "## Cálculo de tamaño del efecto\n",
        "\n",
        "Finalmente, para aquellas comparaciones que se consideren significativas se tiene que reportar el tamaño del efecto (no existe forma de calcular el tamaño del efecto para el test de Kruskal-Wallis en conjunto). En este caso se han realizado comparaciones con Mann-Whitney-wilcox (ver en capítulo dedicado a este test para saber cómo se calcula)."
      ],
      "metadata": {
        "id": "4-tEGkDBSHg1"
      }
    },
    {
      "cell_type": "markdown",
      "source": [
        "## Ejercicios\n",
        "1. Genera tres muestras de tamaño 10 de una distribución exponencial con λ = 0.10. Realiza tanto la prueba F como la prueba de Kruskal-Wallis (KW) para ver si hay diferencias de tratamiento en los tres grupos. Repite esto 1000 veces, registrando el valor-p para ambas pruebas. Compara los resultados de la simulación comparando los dos histogramas hechos a partir de estos valores-p. ¿Qué significan los resultados?\n",
        "\n",
        "2. Las estadísticas de puntos por partido de la temporada de la NBA de 1993 fueron analizadas para jugadores de baloncesto que asistieron a cuatro escuelas de la ACC en particular: Duke, North Carolina, North Carolina State y Georgia Tech. Queremos averiguar si la puntuación es diferente para los jugadores de diferentes escuelas. ¿Se puede analizar esto con un procedimiento paramétrico? ¿Por qué sí o por qué no? La prueba F clásica que asume la normalidad de las poblaciones arroja un valor de F = 0.41 y no se rechaza H0. ¿Qué pasa con el procedimiento no paramétrico?\n",
        "\n",
        "\n",
        "| Escuela          | Puntos |\n",
        "|------------------|--------|\n",
        "| Duke             | 7.5    |\n",
        "| Duke             | 8.7    |\n",
        "| Duke             | 7.1    |\n",
        "| Duke             | 18.2   |\n",
        "| Duke             | 12.9   |\n",
        "| Duke             | 5.9    |\n",
        "| Duke             | 1.9    |\n",
        "| Duke             | 15.8   |\n",
        "| UNC (North Carolina) | 5.5    |\n",
        "| UNC (North Carolina) | 6.2    |\n",
        "| UNC (North Carolina) | 13.0   |\n",
        "| UNC (North Carolina) | 9.7    |\n",
        "| UNC (North Carolina) | 4.6    |\n",
        "| UNC (North Carolina) | 18.7   |\n",
        "| UNC (North Carolina) | 8.7    |\n",
        "| NCSU (North Carolina State) | 16.9   |\n",
        "| NCSU (North Carolina State) | 4.5    |\n",
        "| NCSU (North Carolina State) | 10.5   |\n",
        "| NCSU (North Carolina State) | 4.4    |\n",
        "| NCSU (North Carolina State) | 4.0    |\n",
        "| NCSU (North Carolina State) | 14.0   |\n",
        "| GT (Georgia Tech) | 7.9    |\n",
        "| GT (Georgia Tech) | 7.8    |\n",
        "| GT (Georgia Tech) | 14.5   |\n",
        "| GT (Georgia Tech) | 6.1    |"
      ],
      "metadata": {
        "id": "ulk3rDFiVMF4"
      }
    },
    {
      "cell_type": "markdown",
      "source": [
        "\n",
        "**Referencia:**\n",
        "Joaquín A.R.*Prueba de Kruskal-Wallis y pruebas post-hoc en R*. Recuperado de https://rpubs.com/Joaquin_AR/219504\n"
      ],
      "metadata": {
        "id": "fMzXStDzSNTx"
      }
    }
  ]
}