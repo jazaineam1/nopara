{
  "nbformat": 4,
  "nbformat_minor": 0,
  "metadata": {
    "colab": {
      "provenance": [],
      "include_colab_link": true
    },
    "kernelspec": {
      "name": "ir",
      "display_name": "R"
    },
    "language_info": {
      "name": "R"
    }
  },
  "cells": [
    {
      "cell_type": "markdown",
      "metadata": {
        "id": "view-in-github",
        "colab_type": "text"
      },
      "source": [
        "<a href=\"https://colab.research.google.com/github/jazaineam1/nopara/blob/main/Cuadernos/Kruskall_Wallis.ipynb\" target=\"_parent\"><img src=\"https://colab.research.google.com/assets/colab-badge.svg\" alt=\"Open In Colab\"/></a>"
      ]
    },
    {
      "cell_type": "markdown",
      "source": [
        "## **Test de Kruskal-Wallis y Friedman**\n",
        "\n",
        "## ***Fundación Universidad de América***\n",
        ">## **Estadística y Ciencias Actuariales**\n",
        ">## ***Estadística No Paramétrica***\n",
        "<img src=\"https://congresoambiental.car.gov.co/wp-content/uploads/2022/08/uniAmerica.png\" alt=\"Imágen1\" width=\"600\" height=\"200\">"
      ],
      "metadata": {
        "id": "mTzFKne8StCY"
      }
    },
    {
      "cell_type": "markdown",
      "source": [
        "\n",
        "\n",
        "El Test de Kruskal-Wallis, conocido también como la prueba H, representa una alternativa no paramétrica al ANOVA tradicional para comparar más de dos grupos cuando los datos no están relacionados. Este método extiende el enfoque del Test de Mann-Whitney para múltiples grupos y se basa en el uso de rangos para evaluar si diversas muestras provienen de una población común.\n",
        "\n",
        "A diferencia de ANOVA, que compara medias entre los grupos, el Test de Kruskal-Wallis examina si las muestras provienen de una distribución uniforme, lo que implica que comparten una población común. En esencia, aunque con simplificaciones, puede decirse que este test se orienta a comparar medianas entre los grupos. Las hipótesis son:\n",
        "\n",
        "$$H_0: \\text{todas las muestras provienen de la misma población o distribución.$$ En contraste, la hipótesis alternativa} $$ $$H_a: \\text{al menos una de las muestras proviene de una distribución distinta}$$.\n",
        "\n",
        "Este test resulta especialmente útil cuando los datos presentan un orden inherente o cuando no se cumplen los supuestos necesarios para realizar un ANOVA. Por ejemplo, en estudios de diferencias de rendimiento, se puede recurrir a los tiempos totales de los participantes (para ANOVA) o a sus posiciones finales (para el Test de Kruskal-Wallis).\n",
        "\n",
        "El Test se aplica a k grupos con n observaciones cada uno. Después de ordenar y asignar rangos a todas las observaciones, se espera que, bajo la hipótesis nula, los rangos sumados en cada grupo sean similares. De esta premisa se deriva el estadístico H:\n",
        "\n",
        "$$H = \\frac{12}{N(N+1)} \\sum_{i=1}^{k} \\frac{R_i^2}{n_i} - 3(N+1) $$\n",
        "\n",
        "Condiciones para el Test de Kruskal-Wallis:\n",
        "\n",
        "- No se requiere que las muestras sigan una distribución normal.\n",
        "- Se espera homocedasticidad, o igualdad de varianzas entre los grupos, suponiendo que todas las muestras vienen de la misma población y comparten medianas similares.\n",
        "- Los grupos deben tener distribuciones idénticas, aunque no necesariamente normales, como podría ser el caso de todas con sesgo hacia el mismo lado.\n",
        "\n",
        "El estadístico H se compara según los casos:\n",
        "\n",
        "- Para k = 3 grupos con no más de 5 observaciones cada uno, se utilizan tablas predefinidas de H.\n",
        "- Para otros casos, H sigue una distribución χ² con k-1 grados de libertad.\n",
        "\n",
        "Aunque ANOVA puede ser robusto frente a desviaciones de la normalidad, especialmente con tamaños de muestra medios o grandes, se prefiere el Test de Kruskal-Wallis cuando las muestras son asimétricas, con la misma dirección de sesgo y varianzas homogéneas. Para varianzas heterogéneas, se recomienda un ANOVA ajustado por Welch. El ANOVA no es adecuado para datos puramente ordinales, donde el Test de Kruskal-Wallis es la mejor opción."
      ],
      "metadata": {
        "id": "uPfL7KNsOxzP"
      }
    },
    {
      "cell_type": "markdown",
      "source": [
        "## Comparaciones Post-Hoc\n",
        "\n",
        "\n",
        "Al igual que ocurre con un ANOVA, si el test de Kruskal-Wallis es significativo, implica que al menos dos grupos de entre los comparados son significativamente diferentes, pero no indica cuales. Para saberlo es necesario compararlos todos entre ellos. Esto implica realizar una corrección del nivel de significancia para evitar incrementar el error de tipo I. Los dos métodos de comparación post-hoc más empleados para un test de Kruskal-Wallis son:\n",
        "\n",
        "Test de Mann-Whitney entre cada par de grupos con corrección de significancia pairwise.wilcox.test().\n",
        "\n",
        "Tukey’s range test: en R existe la función kruskalmc() del paquete pgirmess."
      ],
      "metadata": {
        "id": "wPjk2woUPakP"
      }
    },
    {
      "cell_type": "markdown",
      "source": [
        "## Ejemplo\n",
        "Hollander y Wolfe discuten en su trabajo un pequeño estudio que evaluó la eficiencia mucociliar a partir de la tasa de polvo en tres grupos diferentes: sujetos normales, sujetos con enfermedad obstructiva de las vías aéreas y sujetos con asbestosis. Las respuestas miden los tiempos de limpieza mucociliar de los sujetos, representando el tiempo que tarda en reducirse a la mitad la cantidad de moco. Los tamaños de las muestras son pequeños: n1 = n3 = 5 y n2 = 4, lo que suma un total de n = 14 sujetos. Los datos se presentan en vectores de R denominados normal, obstruct y asbestosis."
      ],
      "metadata": {
        "id": "kfbYrV7LPuOI"
      }
    },
    {
      "cell_type": "code",
      "source": [
        "normal <- c(3.9,3.0,2.5,2.6,3.2)\n",
        "obstruct <- c(3.8,2.7,3.0,2.4)\n",
        "asbestosis <- c(3.8,4.4,4.7,3.2,3.0)\n",
        "x <- c(normal,obstruct,asbestosis)\n",
        "g <- c(rep('Normal',5),rep('Obstruct',4),rep('asbestosis',5))\n",
        "\n",
        "\n",
        "df=data.frame(Tratamiento=g,mucosidad=x)\n",
        "df"
      ],
      "metadata": {
        "colab": {
          "base_uri": "https://localhost:8080/",
          "height": 537
        },
        "id": "1EJ-3yBrP0Na",
        "outputId": "1a549ee7-eb81-417f-e850-acc18cb61b94"
      },
      "execution_count": 1,
      "outputs": [
        {
          "output_type": "display_data",
          "data": {
            "text/html": [
              "<table class=\"dataframe\">\n",
              "<caption>A data.frame: 14 × 2</caption>\n",
              "<thead>\n",
              "\t<tr><th scope=col>Tratamiento</th><th scope=col>mucosidad</th></tr>\n",
              "\t<tr><th scope=col>&lt;chr&gt;</th><th scope=col>&lt;dbl&gt;</th></tr>\n",
              "</thead>\n",
              "<tbody>\n",
              "\t<tr><td>Normal    </td><td>3.9</td></tr>\n",
              "\t<tr><td>Normal    </td><td>3.0</td></tr>\n",
              "\t<tr><td>Normal    </td><td>2.5</td></tr>\n",
              "\t<tr><td>Normal    </td><td>2.6</td></tr>\n",
              "\t<tr><td>Normal    </td><td>3.2</td></tr>\n",
              "\t<tr><td>Obstruct  </td><td>3.8</td></tr>\n",
              "\t<tr><td>Obstruct  </td><td>2.7</td></tr>\n",
              "\t<tr><td>Obstruct  </td><td>3.0</td></tr>\n",
              "\t<tr><td>Obstruct  </td><td>2.4</td></tr>\n",
              "\t<tr><td>asbestosis</td><td>3.8</td></tr>\n",
              "\t<tr><td>asbestosis</td><td>4.4</td></tr>\n",
              "\t<tr><td>asbestosis</td><td>4.7</td></tr>\n",
              "\t<tr><td>asbestosis</td><td>3.2</td></tr>\n",
              "\t<tr><td>asbestosis</td><td>3.0</td></tr>\n",
              "</tbody>\n",
              "</table>\n"
            ],
            "text/markdown": "\nA data.frame: 14 × 2\n\n| Tratamiento &lt;chr&gt; | mucosidad &lt;dbl&gt; |\n|---|---|\n| Normal     | 3.9 |\n| Normal     | 3.0 |\n| Normal     | 2.5 |\n| Normal     | 2.6 |\n| Normal     | 3.2 |\n| Obstruct   | 3.8 |\n| Obstruct   | 2.7 |\n| Obstruct   | 3.0 |\n| Obstruct   | 2.4 |\n| asbestosis | 3.8 |\n| asbestosis | 4.4 |\n| asbestosis | 4.7 |\n| asbestosis | 3.2 |\n| asbestosis | 3.0 |\n\n",
            "text/latex": "A data.frame: 14 × 2\n\\begin{tabular}{ll}\n Tratamiento & mucosidad\\\\\n <chr> & <dbl>\\\\\n\\hline\n\t Normal     & 3.9\\\\\n\t Normal     & 3.0\\\\\n\t Normal     & 2.5\\\\\n\t Normal     & 2.6\\\\\n\t Normal     & 3.2\\\\\n\t Obstruct   & 3.8\\\\\n\t Obstruct   & 2.7\\\\\n\t Obstruct   & 3.0\\\\\n\t Obstruct   & 2.4\\\\\n\t asbestosis & 3.8\\\\\n\t asbestosis & 4.4\\\\\n\t asbestosis & 4.7\\\\\n\t asbestosis & 3.2\\\\\n\t asbestosis & 3.0\\\\\n\\end{tabular}\n",
            "text/plain": [
              "   Tratamiento mucosidad\n",
              "1  Normal      3.9      \n",
              "2  Normal      3.0      \n",
              "3  Normal      2.5      \n",
              "4  Normal      2.6      \n",
              "5  Normal      3.2      \n",
              "6  Obstruct    3.8      \n",
              "7  Obstruct    2.7      \n",
              "8  Obstruct    3.0      \n",
              "9  Obstruct    2.4      \n",
              "10 asbestosis  3.8      \n",
              "11 asbestosis  4.4      \n",
              "12 asbestosis  4.7      \n",
              "13 asbestosis  3.2      \n",
              "14 asbestosis  3.0      "
            ]
          },
          "metadata": {}
        }
      ]
    },
    {
      "cell_type": "code",
      "source": [
        "aggregate(mucosidad ~ Tratamiento, data = df, FUN = median)"
      ],
      "metadata": {
        "colab": {
          "base_uri": "https://localhost:8080/",
          "height": 192
        },
        "id": "vPC0NPe3QUry",
        "outputId": "71bd69ed-d3e3-4486-c1af-d7f9022c1339"
      },
      "execution_count": 2,
      "outputs": [
        {
          "output_type": "display_data",
          "data": {
            "text/html": [
              "<table class=\"dataframe\">\n",
              "<caption>A data.frame: 3 × 2</caption>\n",
              "<thead>\n",
              "\t<tr><th scope=col>Tratamiento</th><th scope=col>mucosidad</th></tr>\n",
              "\t<tr><th scope=col>&lt;chr&gt;</th><th scope=col>&lt;dbl&gt;</th></tr>\n",
              "</thead>\n",
              "<tbody>\n",
              "\t<tr><td>asbestosis</td><td>3.80</td></tr>\n",
              "\t<tr><td>Normal    </td><td>3.00</td></tr>\n",
              "\t<tr><td>Obstruct  </td><td>2.85</td></tr>\n",
              "</tbody>\n",
              "</table>\n"
            ],
            "text/markdown": "\nA data.frame: 3 × 2\n\n| Tratamiento &lt;chr&gt; | mucosidad &lt;dbl&gt; |\n|---|---|\n| asbestosis | 3.80 |\n| Normal     | 3.00 |\n| Obstruct   | 2.85 |\n\n",
            "text/latex": "A data.frame: 3 × 2\n\\begin{tabular}{ll}\n Tratamiento & mucosidad\\\\\n <chr> & <dbl>\\\\\n\\hline\n\t asbestosis & 3.80\\\\\n\t Normal     & 3.00\\\\\n\t Obstruct   & 2.85\\\\\n\\end{tabular}\n",
            "text/plain": [
              "  Tratamiento mucosidad\n",
              "1 asbestosis  3.80     \n",
              "2 Normal      3.00     \n",
              "3 Obstruct    2.85     "
            ]
          },
          "metadata": {}
        }
      ]
    },
    {
      "cell_type": "code",
      "source": [
        "aggregate(mucosidad ~ Tratamiento, data = df, FUN = sd)"
      ],
      "metadata": {
        "colab": {
          "base_uri": "https://localhost:8080/",
          "height": 192
        },
        "id": "fQ2PL8obQZ-8",
        "outputId": "a030e69b-aa8c-4a4c-a1e7-39afc73b7cff"
      },
      "execution_count": 3,
      "outputs": [
        {
          "output_type": "display_data",
          "data": {
            "text/html": [
              "<table class=\"dataframe\">\n",
              "<caption>A data.frame: 3 × 2</caption>\n",
              "<thead>\n",
              "\t<tr><th scope=col>Tratamiento</th><th scope=col>mucosidad</th></tr>\n",
              "\t<tr><th scope=col>&lt;chr&gt;</th><th scope=col>&lt;dbl&gt;</th></tr>\n",
              "</thead>\n",
              "<tbody>\n",
              "\t<tr><td>asbestosis</td><td>0.7362065</td></tr>\n",
              "\t<tr><td>Normal    </td><td>0.5594640</td></tr>\n",
              "\t<tr><td>Obstruct  </td><td>0.6020797</td></tr>\n",
              "</tbody>\n",
              "</table>\n"
            ],
            "text/markdown": "\nA data.frame: 3 × 2\n\n| Tratamiento &lt;chr&gt; | mucosidad &lt;dbl&gt; |\n|---|---|\n| asbestosis | 0.7362065 |\n| Normal     | 0.5594640 |\n| Obstruct   | 0.6020797 |\n\n",
            "text/latex": "A data.frame: 3 × 2\n\\begin{tabular}{ll}\n Tratamiento & mucosidad\\\\\n <chr> & <dbl>\\\\\n\\hline\n\t asbestosis & 0.7362065\\\\\n\t Normal     & 0.5594640\\\\\n\t Obstruct   & 0.6020797\\\\\n\\end{tabular}\n",
            "text/plain": [
              "  Tratamiento mucosidad\n",
              "1 asbestosis  0.7362065\n",
              "2 Normal      0.5594640\n",
              "3 Obstruct    0.6020797"
            ]
          },
          "metadata": {}
        }
      ]
    },
    {
      "cell_type": "code",
      "source": [
        "install.packages(c('ggplot','car'))"
      ],
      "metadata": {
        "colab": {
          "base_uri": "https://localhost:8080/"
        },
        "id": "H09ykxNOQg9B",
        "outputId": "ae6cfa53-e899-4701-a847-398915dcf14e"
      },
      "execution_count": 4,
      "outputs": [
        {
          "output_type": "stream",
          "name": "stderr",
          "text": [
            "Installing packages into ‘/usr/local/lib/R/site-library’\n",
            "(as ‘lib’ is unspecified)\n",
            "\n",
            "Warning message:\n",
            "“package ‘ggplot’ is not available for this version of R\n",
            "\n",
            "A version of this package for your version of R might be available elsewhere,\n",
            "see the ideas at\n",
            "https://cran.r-project.org/doc/manuals/r-patched/R-admin.html#Installing-packages”\n",
            "also installing the dependencies ‘numDeriv’, ‘SparseM’, ‘MatrixModels’, ‘minqa’, ‘nloptr’, ‘Rcpp’, ‘RcppEigen’, ‘carData’, ‘abind’, ‘pbkrtest’, ‘quantreg’, ‘lme4’\n",
            "\n",
            "\n"
          ]
        }
      ]
    },
    {
      "cell_type": "code",
      "source": [
        "library(ggplot2)\n",
        "\n",
        "ggplot(data = df, mapping = aes(x = Tratamiento, y = mucosidad, colour = Tratamiento)) +\n",
        "    geom_boxplot() +\n",
        "    theme_bw() +\n",
        "    theme(legend.position = \"none\")"
      ],
      "metadata": {
        "colab": {
          "base_uri": "https://localhost:8080/",
          "height": 437
        },
        "id": "VvfZ9WIYQfCF",
        "outputId": "529e5a4d-292e-4fa2-e3f2-10b745817223"
      },
      "execution_count": 5,
      "outputs": [
        {
          "output_type": "display_data",
          "data": {
            "text/plain": [
              "plot without title"
            ],
            "image/png": "[encoded data removed]"
          },
          "metadata": {
            "image/png": {
              "width": 420,
              "height": 420
            }
          }
        }
      ]
    },
    {
      "cell_type": "markdown",
      "source": [
        "La representación gráfica de los datos muestra que las muestras no se distribuyen de forma normal, lo que supone una limitación para emplear un test ANOVA.\n",
        "\n",
        "**Condiciones**\n",
        "\n",
        "Homocedasticidad: la varianza debe de ser constante entre todos los grupos."
      ],
      "metadata": {
        "id": "UjgFsDfqQxkQ"
      }
    },
    {
      "cell_type": "code",
      "source": [
        "library(car)\n",
        "leveneTest(mucosidad ~ Tratamiento, data = df, center = \"median\")"
      ],
      "metadata": {
        "id": "QULO3dHlQ20n",
        "colab": {
          "base_uri": "https://localhost:8080/",
          "height": 235
        },
        "outputId": "f26b2b36-ac29-4c85-d990-c6d5f69ee83e"
      },
      "execution_count": 6,
      "outputs": [
        {
          "output_type": "stream",
          "name": "stderr",
          "text": [
            "Loading required package: carData\n",
            "\n",
            "Warning message in leveneTest.default(y = y, group = group, ...):\n",
            "“group coerced to factor.”\n"
          ]
        },
        {
          "output_type": "display_data",
          "data": {
            "text/html": [
              "<table class=\"dataframe\">\n",
              "<caption>A anova: 2 × 3</caption>\n",
              "<thead>\n",
              "\t<tr><th></th><th scope=col>Df</th><th scope=col>F value</th><th scope=col>Pr(&gt;F)</th></tr>\n",
              "\t<tr><th></th><th scope=col>&lt;int&gt;</th><th scope=col>&lt;dbl&gt;</th><th scope=col>&lt;dbl&gt;</th></tr>\n",
              "</thead>\n",
              "<tbody>\n",
              "\t<tr><th scope=row>group</th><td> 2</td><td>0.3721504</td><td>0.6976062</td></tr>\n",
              "\t<tr><th scope=row> </th><td>11</td><td>       NA</td><td>       NA</td></tr>\n",
              "</tbody>\n",
              "</table>\n"
            ],
            "text/markdown": "\nA anova: 2 × 3\n\n| <!--/--> | Df &lt;int&gt; | F value &lt;dbl&gt; | Pr(&gt;F) &lt;dbl&gt; |\n|---|---|---|---|\n| group |  2 | 0.3721504 | 0.6976062 |\n| <!----> | 11 |        NA |        NA |\n\n",
            "text/latex": "A anova: 2 × 3\n\\begin{tabular}{r|lll}\n  & Df & F value & Pr(>F)\\\\\n  & <int> & <dbl> & <dbl>\\\\\n\\hline\n\tgroup &  2 & 0.3721504 & 0.6976062\\\\\n\t  & 11 &        NA &        NA\\\\\n\\end{tabular}\n",
            "text/plain": [
              "      Df F value   Pr(>F)   \n",
              "group  2 0.3721504 0.6976062\n",
              "      11        NA        NA"
            ]
          },
          "metadata": {}
        }
      ]
    },
    {
      "cell_type": "code",
      "source": [
        "kruskal.test(mucosidad ~ Tratamiento, data = df)"
      ],
      "metadata": {
        "id": "5GTkuaBDRILE",
        "colab": {
          "base_uri": "https://localhost:8080/",
          "height": 109
        },
        "outputId": "ec18e0dc-5f71-4d88-b362-f36f5bb46898"
      },
      "execution_count": 7,
      "outputs": [
        {
          "output_type": "display_data",
          "data": {
            "text/plain": [
              "\n",
              "\tKruskal-Wallis rank sum test\n",
              "\n",
              "data:  mucosidad by Tratamiento\n",
              "Kruskal-Wallis chi-squared = 3.8978, df = 2, p-value = 0.1424\n"
            ]
          },
          "metadata": {}
        }
      ]
    },
    {
      "cell_type": "markdown",
      "source": [
        "El test **no**  encuentra   diferencia   significativa de al menos dos grupos.\n",
        "\n",
        "\n",
        "## Comparaciones post-hoc para saber que dos grupos difieren\n",
        "\n",
        "Existen diferentes métodos de corrección del nivel de significancia, entre ellos destacan el de Bonferroni que es muy estricto y el de Holm, este último parece ser más recomendado.\n",
        "\n",
        "El método de Holm en las pruebas post-hoc de Kruskal-Wallis es una técnica de ajuste para múltiples comparaciones, usada para controlar la tasa de error de Tipo I (la probabilidad de rechazar incorrectamente una hipótesis nula verdadera) cuando se realizan varias pruebas estadísticas simultáneas. Esta situación suele presentarse después de que un test de Kruskal-Wallis indica diferencias significativas entre tres o más grupos, y deseamos determinar entre qué pares de grupos existen esas diferencias.\n",
        "\n",
        "Cuando aplicamos la corrección de Holm, las hipótesis individuales (por ejemplo, las comparaciones entre pares de grupos) se ordenan de acuerdo a sus niveles de significancia p, de menor a mayor. La corrección de Holm ajusta los valores p comparándolos con un umbral decreciente que depende del rango de la comparación y del número total de comparaciones."
      ],
      "metadata": {
        "id": "T1QmD9wtRPqE"
      }
    },
    {
      "cell_type": "code",
      "source": [
        "pairwise.wilcox.test(x = df$mucosidad, g = df$Tratamiento, p.adjust.method = \"holm\" )"
      ],
      "metadata": {
        "id": "rYtzW5fQRXxb",
        "colab": {
          "base_uri": "https://localhost:8080/",
          "height": 312
        },
        "outputId": "cf423537-0e69-4573-af26-7d1f3c679ad0"
      },
      "execution_count": 8,
      "outputs": [
        {
          "output_type": "stream",
          "name": "stderr",
          "text": [
            "Warning message in wilcox.test.default(xi, xj, paired = paired, ...):\n",
            "“cannot compute exact p-value with ties”\n",
            "Warning message in wilcox.test.default(xi, xj, paired = paired, ...):\n",
            "“cannot compute exact p-value with ties”\n",
            "Warning message in wilcox.test.default(xi, xj, paired = paired, ...):\n",
            "“cannot compute exact p-value with ties”\n"
          ]
        },
        {
          "output_type": "display_data",
          "data": {
            "text/plain": [
              "\n",
              "\tPairwise comparisons using Wilcoxon rank sum test with continuity correction \n",
              "\n",
              "data:  df$mucosidad and df$Tratamiento \n",
              "\n",
              "         asbestosis Normal\n",
              "Normal   0.33       -     \n",
              "Obstruct 0.33       0.81  \n",
              "\n",
              "P value adjustment method: holm "
            ]
          },
          "metadata": {}
        }
      ]
    },
    {
      "cell_type": "markdown",
      "source": [
        "## Cálculo de tamaño del efecto\n",
        "\n",
        "Finalmente, para aquellas comparaciones que se consideren significativas se tiene que reportar el tamaño del efecto (no existe forma de calcular el tamaño del efecto para el test de Kruskal-Wallis en conjunto). En este caso se han realizado comparaciones con Mann-Whitney-wilcox (ver en capítulo dedicado a este test para saber cómo se calcula)."
      ],
      "metadata": {
        "id": "4-tEGkDBSHg1"
      }
    },
    {
      "cell_type": "markdown",
      "source": [
        "## Ejercicios\n",
        "1. Genera tres muestras de tamaño 10 de una distribución exponencial con λ = 0.10. Realiza tanto la prueba F como la prueba de Kruskal-Wallis (KW) para ver si hay diferencias de tratamiento en los tres grupos. Repite esto 1000 veces, registrando el valor-p para ambas pruebas. Compara los resultados de la simulación comparando los dos histogramas hechos a partir de estos valores-p. ¿Qué significan los resultados?\n",
        "\n",
        "2. Las estadísticas de puntos por partido de la temporada de la NBA de 1993 fueron analizadas para jugadores de baloncesto que asistieron a cuatro escuelas de la ACC en particular: Duke, North Carolina, North Carolina State y Georgia Tech. Queremos averiguar si la puntuación es diferente para los jugadores de diferentes escuelas. ¿Se puede analizar esto con un procedimiento paramétrico? ¿Por qué sí o por qué no? La prueba F clásica que asume la normalidad de las poblaciones arroja un valor de F = 0.41 y no se rechaza H0. ¿Qué pasa con el procedimiento no paramétrico?\n",
        "\n",
        "\n",
        "| Escuela          | Puntos |\n",
        "|------------------|--------|\n",
        "| Duke             | 7.5    |\n",
        "| Duke             | 8.7    |\n",
        "| Duke             | 7.1    |\n",
        "| Duke             | 18.2   |\n",
        "| Duke             | 12.9   |\n",
        "| Duke             | 5.9    |\n",
        "| Duke             | 1.9    |\n",
        "| Duke             | 15.8   |\n",
        "| UNC (North Carolina) | 5.5    |\n",
        "| UNC (North Carolina) | 6.2    |\n",
        "| UNC (North Carolina) | 13.0   |\n",
        "| UNC (North Carolina) | 9.7    |\n",
        "| UNC (North Carolina) | 4.6    |\n",
        "| UNC (North Carolina) | 18.7   |\n",
        "| UNC (North Carolina) | 8.7    |\n",
        "| NCSU (North Carolina State) | 16.9   |\n",
        "| NCSU (North Carolina State) | 4.5    |\n",
        "| NCSU (North Carolina State) | 10.5   |\n",
        "| NCSU (North Carolina State) | 4.4    |\n",
        "| NCSU (North Carolina State) | 4.0    |\n",
        "| NCSU (North Carolina State) | 14.0   |\n",
        "| GT (Georgia Tech) | 7.9    |\n",
        "| GT (Georgia Tech) | 7.8    |\n",
        "| GT (Georgia Tech) | 14.5   |\n",
        "| GT (Georgia Tech) | 6.1    |"
      ],
      "metadata": {
        "id": "ulk3rDFiVMF4"
      }
    },
    {
      "cell_type": "markdown",
      "source": [
        "## **Test de Friedman**\n",
        "### Introducción\n",
        "\n",
        "\n",
        "El test de Friedman es la alternativa no paramétrica a la prueba ANOVA de una vía cuando los datos son dependientes (pareados). Se trata de una extensión de la prueba de los rangos con signo de Wilcoxon para más de dos grupos (basada en suma de rangos). Asumiendo ciertas simplificaciones, puede considerarse como una comparación entre las medianas de varios grupos.\n",
        "\n",
        "El test de Friedman es el test adecuado cuando los datos tienen un orden natural, (cuando para darles sentido tienen que estar ordenados) y además son pareados. Por ejemplo, si se quiere estudiar la diferencia en el rendimiento de un grupo de corredores dependiendo de la estación del año, se hace correr al mismo grupo de personas una vez en cada estación. Como resultado, se puede disponer de dos tipos de datos: los tiempos de cada participante (análisis con ANOVA pareado) o las posiciones en las que han terminado la carrera cada participante en cada una de las carreras (análisis con Friedman test).\n",
        "\n",
        "EL concepto es similar a la suma de rangos de Wilcoxon para dos grupos pero esta vez asignando los rangos dentro de cada fila (ya que hay más de dos medidas para cada individuo) y después haciendo la suma de rangos para cada columna.\n",
        "\n",
        "El test de Friedman genera un estadístico conocido como Fr o Q que se distribuye:\n",
        "\n",
        "- Si el número total de individuos (N\n",
        ") es mayor de 10, la distribución de Fr se aproxima a una distribución χ2\n",
        " con k−1\n",
        " grados de libertad (siendo k\n",
        " el número de grupos a comparar).\n",
        "\n",
        "- Si el número de individuos es menor de 10, se recurre a tablas con los valores de significancia para un test de Friedman."
      ],
      "metadata": {
        "id": "lqxQzID9g9aN"
      }
    },
    {
      "cell_type": "markdown",
      "source": [
        "### Comparaciones Post-Hoc\n",
        "\n",
        "\n",
        "Al igual que ocurre con un ANOVA, si el test de Friedman es significativo implica que, al menos dos grupos de entre los comparados, son significativamente diferentes, pero no indica cuales. Para saberlo es necesario compararlos todos entre ellos. Esto implica realizar una corrección del nivel de significancia para evitar incrementar el error de tipo I. Los dos métodos de comparación post-hoc más empleados para un test de Friedman son:\n",
        "\n",
        "- Test de rangos con signo de Wilcoxon entre cada par de grupos con corrección de significancia ```pairwise.wilcox.test( paried = TRUE )```.\n",
        "\n",
        "Tukey’s range test: en R existe la función ```friedmanmc()``` del paquete pgirmess."
      ],
      "metadata": {
        "id": "aizRC1zOhOBN"
      }
    },
    {
      "cell_type": "markdown",
      "source": [
        "### Ejemplo\n",
        "\n",
        "\n",
        "Un estudio pretende determinar si existe diferencia en como de bueno consideran los consumidores que es un vino dependiendo de la hora del día en la que lo toman. Para ello se selecciona a un grupo de 7 sujetos a los que se les da a probar un vino por la mañana, por la tarde y por la noche. En cada degustación se valora del 1 al 11 el vino (los degustadores no saben que es el mismo vino).\n",
        "\n"
      ],
      "metadata": {
        "id": "MGHXdHq3heFL"
      }
    },
    {
      "cell_type": "code",
      "source": [
        "valoracion <- c( 9, 5, 2, 6, 3, 1, 5, 5, 5, 11, 5, 1, 8, 4, 3, 10, 4, 1, 7, 3, 4 )\n",
        "hora <- factor( rep( c( \"mañana\", \"tarde\", \"noche\" ), 7 ) )\n",
        "sujeto <- factor( rep( 1:7, each = 3 ) )\n",
        "datos <- data.frame( valoracion, hora, sujeto )\n",
        "datos"
      ],
      "metadata": {
        "colab": {
          "base_uri": "https://localhost:8080/",
          "height": 756
        },
        "id": "agoPLmOthi9G",
        "outputId": "4a963b72-4735-44f2-ae95-7f64e0829000"
      },
      "execution_count": 9,
      "outputs": [
        {
          "output_type": "display_data",
          "data": {
            "text/html": [
              "<table class=\"dataframe\">\n",
              "<caption>A data.frame: 21 × 3</caption>\n",
              "<thead>\n",
              "\t<tr><th scope=col>valoracion</th><th scope=col>hora</th><th scope=col>sujeto</th></tr>\n",
              "\t<tr><th scope=col>&lt;dbl&gt;</th><th scope=col>&lt;fct&gt;</th><th scope=col>&lt;fct&gt;</th></tr>\n",
              "</thead>\n",
              "<tbody>\n",
              "\t<tr><td> 9</td><td>mañana</td><td>1</td></tr>\n",
              "\t<tr><td> 5</td><td>tarde </td><td>1</td></tr>\n",
              "\t<tr><td> 2</td><td>noche </td><td>1</td></tr>\n",
              "\t<tr><td> 6</td><td>mañana</td><td>2</td></tr>\n",
              "\t<tr><td> 3</td><td>tarde </td><td>2</td></tr>\n",
              "\t<tr><td> 1</td><td>noche </td><td>2</td></tr>\n",
              "\t<tr><td> 5</td><td>mañana</td><td>3</td></tr>\n",
              "\t<tr><td> 5</td><td>tarde </td><td>3</td></tr>\n",
              "\t<tr><td> 5</td><td>noche </td><td>3</td></tr>\n",
              "\t<tr><td>11</td><td>mañana</td><td>4</td></tr>\n",
              "\t<tr><td> 5</td><td>tarde </td><td>4</td></tr>\n",
              "\t<tr><td> 1</td><td>noche </td><td>4</td></tr>\n",
              "\t<tr><td> 8</td><td>mañana</td><td>5</td></tr>\n",
              "\t<tr><td> 4</td><td>tarde </td><td>5</td></tr>\n",
              "\t<tr><td> 3</td><td>noche </td><td>5</td></tr>\n",
              "\t<tr><td>10</td><td>mañana</td><td>6</td></tr>\n",
              "\t<tr><td> 4</td><td>tarde </td><td>6</td></tr>\n",
              "\t<tr><td> 1</td><td>noche </td><td>6</td></tr>\n",
              "\t<tr><td> 7</td><td>mañana</td><td>7</td></tr>\n",
              "\t<tr><td> 3</td><td>tarde </td><td>7</td></tr>\n",
              "\t<tr><td> 4</td><td>noche </td><td>7</td></tr>\n",
              "</tbody>\n",
              "</table>\n"
            ],
            "text/markdown": "\nA data.frame: 21 × 3\n\n| valoracion &lt;dbl&gt; | hora &lt;fct&gt; | sujeto &lt;fct&gt; |\n|---|---|---|\n|  9 | mañana | 1 |\n|  5 | tarde  | 1 |\n|  2 | noche  | 1 |\n|  6 | mañana | 2 |\n|  3 | tarde  | 2 |\n|  1 | noche  | 2 |\n|  5 | mañana | 3 |\n|  5 | tarde  | 3 |\n|  5 | noche  | 3 |\n| 11 | mañana | 4 |\n|  5 | tarde  | 4 |\n|  1 | noche  | 4 |\n|  8 | mañana | 5 |\n|  4 | tarde  | 5 |\n|  3 | noche  | 5 |\n| 10 | mañana | 6 |\n|  4 | tarde  | 6 |\n|  1 | noche  | 6 |\n|  7 | mañana | 7 |\n|  3 | tarde  | 7 |\n|  4 | noche  | 7 |\n\n",
            "text/latex": "A data.frame: 21 × 3\n\\begin{tabular}{lll}\n valoracion & hora & sujeto\\\\\n <dbl> & <fct> & <fct>\\\\\n\\hline\n\t  9 & mañana & 1\\\\\n\t  5 & tarde  & 1\\\\\n\t  2 & noche  & 1\\\\\n\t  6 & mañana & 2\\\\\n\t  3 & tarde  & 2\\\\\n\t  1 & noche  & 2\\\\\n\t  5 & mañana & 3\\\\\n\t  5 & tarde  & 3\\\\\n\t  5 & noche  & 3\\\\\n\t 11 & mañana & 4\\\\\n\t  5 & tarde  & 4\\\\\n\t  1 & noche  & 4\\\\\n\t  8 & mañana & 5\\\\\n\t  4 & tarde  & 5\\\\\n\t  3 & noche  & 5\\\\\n\t 10 & mañana & 6\\\\\n\t  4 & tarde  & 6\\\\\n\t  1 & noche  & 6\\\\\n\t  7 & mañana & 7\\\\\n\t  3 & tarde  & 7\\\\\n\t  4 & noche  & 7\\\\\n\\end{tabular}\n",
            "text/plain": [
              "   valoracion hora   sujeto\n",
              "1   9         mañana 1     \n",
              "2   5         tarde  1     \n",
              "3   2         noche  1     \n",
              "4   6         mañana 2     \n",
              "5   3         tarde  2     \n",
              "6   1         noche  2     \n",
              "7   5         mañana 3     \n",
              "8   5         tarde  3     \n",
              "9   5         noche  3     \n",
              "10 11         mañana 4     \n",
              "11  5         tarde  4     \n",
              "12  1         noche  4     \n",
              "13  8         mañana 5     \n",
              "14  4         tarde  5     \n",
              "15  3         noche  5     \n",
              "16 10         mañana 6     \n",
              "17  4         tarde  6     \n",
              "18  1         noche  6     \n",
              "19  7         mañana 7     \n",
              "20  3         tarde  7     \n",
              "21  4         noche  7     "
            ]
          },
          "metadata": {}
        }
      ]
    },
    {
      "cell_type": "code",
      "source": [
        "by(data = datos$valoracion, INDICES = datos$hora, FUN = median)"
      ],
      "metadata": {
        "colab": {
          "base_uri": "https://localhost:8080/",
          "height": 165
        },
        "id": "lDj5OmX_hpa7",
        "outputId": "c1863c87-5660-4087-9ee2-6572ec3b6739"
      },
      "execution_count": 10,
      "outputs": [
        {
          "output_type": "display_data",
          "data": {
            "text/plain": [
              "datos$hora: mañana\n",
              "[1] 8\n",
              "------------------------------------------------------------ \n",
              "datos$hora: noche\n",
              "[1] 2\n",
              "------------------------------------------------------------ \n",
              "datos$hora: tarde\n",
              "[1] 4"
            ]
          },
          "metadata": {}
        }
      ]
    },
    {
      "cell_type": "code",
      "source": [
        "library(ggplot2)\n",
        "ggplot(data = datos, mapping = aes(x = hora, y = valoracion, colour = hora)) +\n",
        "    geom_boxplot() +\n",
        "    theme_bw() +\n",
        "    theme(legend.position = \"none\")"
      ],
      "metadata": {
        "colab": {
          "base_uri": "https://localhost:8080/",
          "height": 437
        },
        "id": "Dg5XDgo7hxFp",
        "outputId": "9d42dec7-765b-4eaa-822b-63cd969d16a6"
      },
      "execution_count": 11,
      "outputs": [
        {
          "output_type": "display_data",
          "data": {
            "text/plain": [
              "plot without title"
            ],
            "image/png": "[encoded data removed]"
          },
          "metadata": {
            "image/png": {
              "width": 420,
              "height": 420
            }
          }
        }
      ]
    },
    {
      "cell_type": "markdown",
      "source": [
        "El box-plot parece indicar que sí hay diferencia dependiendo de la hora del día. Al tratarse de escalas de valoración (valores ordinales) no se puede emplear un ANOVA, se emplea el test de Friedman.\n",
        "\n",
        "\n",
        "### Test de Friedman\n",
        "\n"
      ],
      "metadata": {
        "id": "Z_VbqTnSh24c"
      }
    },
    {
      "cell_type": "code",
      "source": [
        "friedman.test(valoracion, hora, sujeto)"
      ],
      "metadata": {
        "colab": {
          "base_uri": "https://localhost:8080/",
          "height": 109
        },
        "id": "aaFXPFaEh5tq",
        "outputId": "c5ae5f4a-df47-48f2-b606-646741419d9f"
      },
      "execution_count": 12,
      "outputs": [
        {
          "output_type": "display_data",
          "data": {
            "text/plain": [
              "\n",
              "\tFriedman rank sum test\n",
              "\n",
              "data:  valoracion, hora and sujeto\n",
              "Friedman chi-squared = 10.333, df = 2, p-value = 0.005704\n"
            ]
          },
          "metadata": {}
        }
      ]
    },
    {
      "cell_type": "markdown",
      "source": [
        "El test encuentra diferencias significativas entre al menos dos grupos. Para saber cuáles son, se realizan comparaciones dos a dos empleando el test de Wilcoxon rangos con signo.\n",
        "\n",
        "\n",
        "Comparaciones múltiples\n",
        "\n"
      ],
      "metadata": {
        "id": "dCvPobPEh_UZ"
      }
    },
    {
      "cell_type": "code",
      "source": [
        "pairwise.wilcox.test(datos$valoracion, datos$hora, paired = TRUE, p.adjust.method = \"holm\")"
      ],
      "metadata": {
        "colab": {
          "base_uri": "https://localhost:8080/",
          "height": 423
        },
        "id": "a7iPyhMiiBdF",
        "outputId": "d781af13-d501-427c-f2d0-fae8a232881d"
      },
      "execution_count": 13,
      "outputs": [
        {
          "output_type": "stream",
          "name": "stderr",
          "text": [
            "Warning message in wilcox.test.default(xi, xj, paired = paired, ...):\n",
            "“cannot compute exact p-value with ties”\n",
            "Warning message in wilcox.test.default(xi, xj, paired = paired, ...):\n",
            "“cannot compute exact p-value with zeroes”\n",
            "Warning message in wilcox.test.default(xi, xj, paired = paired, ...):\n",
            "“cannot compute exact p-value with ties”\n",
            "Warning message in wilcox.test.default(xi, xj, paired = paired, ...):\n",
            "“cannot compute exact p-value with zeroes”\n",
            "Warning message in wilcox.test.default(xi, xj, paired = paired, ...):\n",
            "“cannot compute exact p-value with ties”\n",
            "Warning message in wilcox.test.default(xi, xj, paired = paired, ...):\n",
            "“cannot compute exact p-value with zeroes”\n"
          ]
        },
        {
          "output_type": "display_data",
          "data": {
            "text/plain": [
              "\n",
              "\tPairwise comparisons using Wilcoxon signed rank test with continuity correction \n",
              "\n",
              "data:  datos$valoracion and datos$hora \n",
              "\n",
              "      mañana noche\n",
              "noche 0.1    -    \n",
              "tarde 0.1    0.1  \n",
              "\n",
              "P value adjustment method: holm "
            ]
          },
          "metadata": {}
        }
      ]
    },
    {
      "cell_type": "markdown",
      "source": [
        "A pesar de que el test de Friedman resulta significativo, las comparaciones por pares mediante wilcox test con corrección de holm no encuentran ninguna diferencia significativa."
      ],
      "metadata": {
        "id": "ydN92oLfiFsV"
      }
    },
    {
      "cell_type": "markdown",
      "source": [
        "## Taller\n",
        "\n",
        "**1.** Utiliza el test de Kolmogorov-Smirnov para examinar, bajo un nivel de significancia de 0.01, si las observaciones en la Tabla 9.35 son números aleatorios distribuidos uniformemente entre 0 y 1.\n",
        "\n",
        "0.385, 0.855, 0.309, 0.597, 0.713, 0.660, 0.137, 0.396, 0.238, 0.657, 0.583, 0.194\n",
        "\n",
        "**2.** Cada persona en una muestra aleatoria de n = 10 empleados fue preguntada acerca de X, el tiempo diario perdido en el trabajo realizando actividades no laborales, como navegar por internet y enviar correos electrónicos a amigos. Los datos resultantes, en minutos, son los siguientes:\n",
        "\n",
        "108, 112, 117, 130, 111, 131, 113, 113, 105, 128\n",
        "\n",
        "¿Es correcto asumir que estos datos provienen de una distribución normal con una media de 120 y una desviación estándar de 10?\n",
        "\n",
        "**3.** Determinar si las muestras de Italia y Francia provienen de la misma distribución, considera los siguientes datos:\n",
        "\n",
        "Italia | Francia\n",
        "-------|--------\n",
        "3      | 2\n",
        "2      | 8\n",
        "3      | 2\n",
        "5      | 4\n",
        "8      | 4\n",
        "9      | 3\n",
        "8      | 6\n",
        "8      |\n",
        "\n"
      ],
      "metadata": {
        "id": "zkIGkNlqo8mk"
      }
    },
    {
      "cell_type": "markdown",
      "source": [
        "**4.** Se lleva a cabo un estudio para evaluar la efectividad de un programa de ejercicio en la reducción de la presión arterial sistólica en pacientes con prehipertensión (definida como una presión arterial sistólica entre 120-139 mmHg o una presión arterial diastólica entre 80-89 mmHg). Un total de 15 pacientes con prehipertensión se inscriben en el estudio y se mide su presión arterial sistólica. Luego, cada paciente participa en un programa de entrenamiento de ejercicio donde aprenden técnicas adecuadas y ejecución de una serie de ejercicios. Se les instruye a los pacientes que realicen el programa de ejercicios 3 veces por semana durante 6 semanas. Después de 6 semanas, se vuelven a medir las presiones arteriales sistólicas. Los datos se muestran a continuación:\n",
        "\n",
        "| Paciente | Presión Arterial Sistólica Antes del Programa de Ejercicio | Presión Arterial Sistólica Después del Programa de Ejercicio |\n",
        "|----------|------------------------------------------------------------|-------------------------------------------------------------|\n",
        "| 1        | 125                                                        | 118                                                         |\n",
        "| 2        | 132                                                        | 134                                                         |\n",
        "| 3        | 138                                                        | 130                                                         |\n",
        "| 4        | 120                                                        | 124                                                         |\n",
        "| 5        | 125                                                        | 105                                                         |\n",
        "| 6        | 127                                                        | 130                                                         |\n",
        "| 7        | 136                                                        | 130                                                         |\n",
        "| 8        | 139                                                        | 132                                                         |\n",
        "| 9        | 131                                                        | 123                                                         |\n",
        "| 10       | 132                                                        | 128                                                         |\n",
        "| 11       | 135                                                        | 126                                                         |\n",
        "| 12       | 136                                                        | 140                                                         |\n",
        "| 13       | 128                                                        | 135                                                         |\n",
        "| 14       | 127                                                        | 126                                                         |\n",
        "| 15       | 130                                                        | 132                                                         |\n",
        "\n",
        "Estos datos representan las mediciones de presión arterial sistólica antes y después del programa de ejercicio para los 15 pacientes incluidos en el estudio.\n",
        "\n",
        "¿Hay alguna diferencia en las presiones arteriales sistólicas después de participar en el programa de ejercicio en comparación con antes?\n",
        "\n",
        "**5.** Utilice el Test de signo para el siguiente ejercicio. Un total de 8 niños con autismo se inscriben en el estudio y se mide la cantidad de tiempo que cada niño pasa involucrado en comportamientos repetitivos durante períodos de observación de tres horas, tanto antes del tratamiento como después de tomar la nueva medicación durante un período de 1 semana. Los datos se muestran a continuación:\n",
        "\n",
        "| Niño | Antes del Tratamiento | Después de 1 Semana de Tratamiento |\n",
        "|------|------------------------|------------------------------------|\n",
        "| 1    | 85                     | 75                                 |\n",
        "| 2    | 70                     | 50                                 |\n",
        "| 3    | 40                     | 50                                 |\n",
        "| 4    | 65                     | 40                                 |\n",
        "| 5    | 80                     | 20                                 |\n",
        "| 6    | 75                     | 65                                 |\n",
        "| 7    | 55                     | 40                                 |\n",
        "| 8    | 20                     | 25                                 |\n",
        "\n",
        "Estos datos representan la cantidad de tiempo en minutos que cada niño pasó involucrado en comportamientos repetitivos antes y después del tratamiento. ¿hay alguna diferencia significativa en los comportamientos repetitivos antes y después del tratamiento?\n",
        "\n",
        "**6-** Realice el ejercicio anterior usando el test de Wilcoxon\n",
        "\n",
        "**7.** Se desea construir una prueba de psicomotricidad en la que no presenten\n",
        "significativas las personas ciegas de nacimientos con respecto a las videntes.\n",
        "Se toman al azar 5 ciegos de nacimiento y 6 videntes, todos de la misma edad,mismo sexo y educación similar. Los datos obtenidos en la prueba fueron:\n",
        "\n",
        "Ciegos: 16, 19,18,20,23\n",
        "Videntes: 20, 17, 25,24,27,29\n",
        "¿Hay evidencia suficiente para firmar que ambos grupos son iguales en la prueba?"
      ],
      "metadata": {
        "id": "MRe1TVQhrKkM"
      }
    },
    {
      "cell_type": "markdown",
      "source": [
        "**8.** En un estudio de toxicología, con el objetivo de verificar el contenido de alquitrán, se prueban cuatro muestras aleatorias de cigarrillos. Utilizando un nivel de significancia de α = 0.05, se desea probar que no hay diferencias entre las cuatro poblaciones de marcas de cigarrillos. A continuación se presenta una tabla con los datos de contenido de alquitrán (en ppm) para cada marca de cigarrillos:\n",
        "\n",
        "| Marca A | Marca B | Marca C | Marca D |\n",
        "|---------|---------|---------|---------|\n",
        "| 14      | 18      | 17      | 20      |\n",
        "| 18      | 25      | 14      | 28      |\n",
        "| 19      | 18      | 14      | 28      |\n",
        "| 14      | 24      | 16      | 21      |\n",
        "\n",
        "Estos datos representan los niveles de contenido de alquitrán en partes por millón (ppm) para las cuatro marcas de cigarrillos. El objetivo es determinar si hay alguna diferencia significativa en el contenido de alquitrán entre las diferentes marcas de cigarrillos. (Realice la prueba no paramétrica)\n",
        "\n",
        "**9.** Se presenta a continuación una tabla con las duraciones de las baterías (en horas) para cuatro marcas distintas:\n",
        "\n",
        "| Marca A | Marca B | Marca C | Marca D |\n",
        "|---------|---------|---------|---------|\n",
        "| 15      | 15.4    | 14.6    | 15.6    |\n",
        "| 18      | 16.5    | 17.9    | 15.8    |\n",
        "| 17      | 18.6    | 16.4    | 17.9    |\n",
        "| 16      | 17.9    | 15.6    | 18.4    |\n",
        "| 15      | 18      | 14.6    | 16.9    |\n",
        "| 19      | 16.4    | 16.4    | 15.4    |\n",
        "| 17.5    | 16.8    | 17.8    |         |\n",
        "| 17.6    | 18.9    |         |         |\n",
        "\n",
        "Se desea determinar si existen evidencias suficientes para afirmar con certeza que las duraciones de las baterías de las marcas son diferentes, utilizando un nivel de significancia del 0.05."
      ],
      "metadata": {
        "id": "BKznLhovtDkk"
      }
    },
    {
      "cell_type": "markdown",
      "source": [
        "**10.** Los científicos Hall, Culp, Hayakawa, Ratliff y Hightower llevaron a cabo un estudio comparativo de tres métodos para determinar los niveles de amilasa sérica en pacientes con pancreatitis. En la siguiente tabla se presentan los valores de amilasa sérica (en unidades de enzimas por 100 ml de suero) para dichos pacientes:\n",
        "\n",
        "| Muestra | Método A | Método B | Método C |\n",
        "|---------|----------|----------|----------|\n",
        "| 1       | 4000     | 3210     | 6120     |\n",
        "| 2       | 1600     | 1040     | 2410     |\n",
        "| 3       | 1600     | 647      | 2210     |\n",
        "| 4       | 1200     | 570      | 2060     |\n",
        "| 5       | 840      | 445      | 1400     |\n",
        "| 6       | 352      | 156      | 249      |\n",
        "| 7       | 224      | 155      | 224      |\n",
        "| 8       | 200      | 99       | 208      |\n",
        "| 9       | 184      | 70       | 227      |\n",
        "\n",
        "Realice una prueba de Friedman con un nivel de significancia del 5 % para determinar si existe alguna diferencia significativa entre los tres métodos de medición de amilasa sérica en pacientes con pancreatitis.\n",
        "\n",
        "Realice la prueba post hoc adecuada e interprete los resultados."
      ],
      "metadata": {
        "id": "dvmXTl_xuoTo"
      }
    },
    {
      "cell_type": "markdown",
      "source": [
        "\n",
        "**Referencia:**\n",
        "\n",
        "Joaquín A.R.*Prueba de Kruskal-Wallis y pruebas post-hoc en R*. Recuperado de https://rpubs.com/Joaquin_AR/219504\n",
        "\n",
        "Joaquín A.R.*Test de Friedman*. Recuperado de\n",
        "https://cienciadedatos.net/documentos/21_friedman_test\n"
      ],
      "metadata": {
        "id": "fMzXStDzSNTx"
      }
    },
    {
      "cell_type": "code",
      "source": [],
      "metadata": {
        "id": "aWj3xLRZhwcN"
      },
      "execution_count": 14,
      "outputs": []
    },
    {
      "cell_type": "code",
      "source": [],
      "metadata": {
        "id": "phv4mTZ8gwjM"
      },
      "execution_count": 15,
      "outputs": []
    }
  ]
}