{
  "nbformat": 4,
  "nbformat_minor": 0,
  "metadata": {
    "colab": {
      "provenance": [],
      "include_colab_link": true
    },
    "kernelspec": {
      "name": "ir",
      "display_name": "R"
    },
    "language_info": {
      "name": "R"
    }
  },
  "cells": [
    {
      "cell_type": "markdown",
      "metadata": {
        "id": "view-in-github",
        "colab_type": "text"
      },
      "source": [
        "<a href=\"https://colab.research.google.com/github/jazaineam1/nopara/blob/main/Cuadernos/correlaciones.ipynb\" target=\"_parent\"><img src=\"https://colab.research.google.com/assets/colab-badge.svg\" alt=\"Open In Colab\"/></a>"
      ]
    },
    {
      "cell_type": "markdown",
      "source": [
        "# **Test de Correlación**\n",
        "\n",
        "Las correlaciones, ya sea la de Pearson, la de Kendall o la de Spearman, tienen la intención de cuantificar la relación entre dos variables en un conjunto de datos.\n",
        "\n",
        "1. **Correlación de Pearson**:\n",
        "   - Esta correlación busca medir la fuerza y la dirección de la relación lineal entre dos variables cuantitativas.\n",
        "   - Se utiliza principalmente para determinar si existe una relación significativa entre las dos variables y, en caso afirmativo, la fuerza de esa relación.\n",
        "   - Es útil para comprender cómo cambia una variable cuando la otra variable cambia en una dirección específica.\n",
        "  - El coeficiente de correlación de Pearson varía entre -1 y .\n",
        "Un valor de 1 indica una correlación positiva perfecta, -1 indica una correlación negativa perfecta y 0 indica ausencia de correlación lineal.\n",
        "  - Requiere que las variables sean cuantitativas y que la relación entre ellas sea lineal\n",
        "\n",
        "2. **Correlación de Kendall (Tau de Kendall)**:\n",
        "   - La intención de esta correlación es evaluar la concordancia o discordancia en el orden de los datos de dos variables ordinales o cuantitativas.\n",
        "   - Es particularmente útil cuando los datos pueden no cumplir con los supuestos de la correlación de Pearson, como cuando hay valores atípicos o cuando la relación entre las variables no es lineal.\n",
        "   - Kendall's Tau varía entre -1 y 1, donde 1 indica una concordancia perfecta, -1 indica una discordancia perfecta y 0 indica ausencia de relación.\n",
        "\n",
        "3. **Correlación de Spearman (Rho de Spearman)**:\n",
        "   - Similar a la de Kendall, esta correlación evalúa la relación de ordenación entre dos variables, pero no asume que la relación sea lineal.\n",
        "   - Se utiliza para determinar si existe una asociación monotónica entre las dos variables, es decir, si una variable tiende a aumentar o disminuir cuando la otra variable lo hace.\n",
        "   - Es especialmente útil cuando los datos no siguen una distribución normal y cuando hay valores atípicos presentes en los datos.\n",
        "   - Varía entre -1 y 1, donde 1 indica una correlación perfecta positiva, -1 indica una correlación perfecta negativa y 0 indica ausencia de correlación monotónica.\n",
        "\n",
        "**Diferencias entre Kendall y Spearman**\n",
        "\n",
        "**Aplicabilidad:**\n",
        "\n",
        "Kendall: Es más adecuada para variables ordinales y es menos sensible a valores atípicos en los datos. Es útil cuando las variables no cumplen con los supuestos de normalidad y linealidad requeridos por la correlación de Pearson.\n",
        "Spearman: Aunque también es adecuada para variables ordinales, la correlación de Spearman es más general y se puede aplicar a variables cuantitativas. Además, es más robusta que la correlación de Pearson frente a valores atípicos y no linealidades en los datos.\n",
        "\n",
        "**Interpretación:**\n",
        "\n",
        "Kendall: Evalúa la concordancia o discordancia en el orden de los datos entre las dos variables, sin considerar la magnitud de las diferencias.\n",
        "Spearman: Evalúa la relación de ordenación entre las variables y tiene en cuenta la magnitud de las diferencias entre los valores de las variables."
      ],
      "metadata": {
        "id": "82wVemJjVlYI"
      }
    },
    {
      "cell_type": "markdown",
      "source": [
        "## Pearson\n",
        "El coeficiente de correlación de Pearson, también conocido como correlación del momento del producto de Pearson, estima la correlación poblacional ρ. La prueba evalúa H0: ρ = 0 y construye un intervalo de confianza (1−α)% alrededor de r:\n",
        "\n",
        "$$ r = \\frac{\\sum_{i=1}^{n}(X_i - \\bar{X})(Y_i - \\bar{Y})}{\\sqrt{\\sum_{i=1}^{n}(X_i - \\bar{X})^2 \\sum_{i=1}^{n}(Y_i - \\bar{Y})^2}} $$\n",
        "\n",
        "El valor de r oscila entre -1 (relación lineal perfectamente negativa) y +1 (relación lineal perfectamente positiva), y r=0 cuando no hay relación lineal. Una correlación en el rango (0.1, 0.3) se considera pequeña, (0.3, 0.5) es mediana y (0.5, 1.0) es grande.\n",
        "\n",
        "Solo se debe usar la correlación de Pearson cuando:\n",
        "\n",
        "- Las variables son intervalares o de razón.\n",
        "- Las variables están distribuidas normalmente.\n",
        "- Las variables están relacionadas linealmente.\n",
        "- Hay mínimos valores atípicos (o se eliminan por completo).\n",
        "- Los residuos son homocedásticos.\n",
        "\n",
        "La prueba de H0: ρ = 0 utiliza el estadístico de prueba $$ T = \\frac{r \\cdot \\sqrt{n-2}}{\\sqrt{1-r^2}} $$\n",
        "\n",
        "\n",
        "**Ejemplo de Correlación del Momento del Producto de Pearson:**\n",
        "El conjunto de datos \"nascard\" consta de 898 carreras de 1975 a 2003. En la carrera 1 de 1975, ¿cuál fue la correlación entre la posición de finalización del conductor y el premio?\n",
        "\n",
        "Revisar la información aquí https://jse.amstat.org/v14n3/datasets.winner.html"
      ],
      "metadata": {
        "id": "5FeF3IytXZOy"
      }
    },
    {
      "cell_type": "code",
      "source": [
        "library(dplyr)\n",
        "nascard <- read.fwf(file = url(\"http://jse.amstat.org/datasets/nascard.dat.txt\"),\n",
        "                    widths = c(5, 6, 4, 4, 4, 5, 9, 4, 11, 30),\n",
        "                    col.names = c('series_race', 'year', 'race_year',\n",
        "                                  'finish_pos', 'start_pos',\n",
        "                                  'laps_comp', 'winnings', 'num_cars',\n",
        "                                  'car_make', 'driver'))\n",
        "nascard_sr1 <- nascard[nascard$series_race == 1,]\n",
        "glimpse(nascard_sr1)"
      ],
      "metadata": {
        "colab": {
          "base_uri": "https://localhost:8080/"
        },
        "id": "mBFJ-nFYXrep",
        "outputId": "f2ebfbe3-21d6-44e7-b605-668b199dec6e"
      },
      "execution_count": 1,
      "outputs": [
        {
          "output_type": "stream",
          "name": "stderr",
          "text": [
            "\n",
            "Attaching package: ‘dplyr’\n",
            "\n",
            "\n",
            "The following objects are masked from ‘package:stats’:\n",
            "\n",
            "    filter, lag\n",
            "\n",
            "\n",
            "The following objects are masked from ‘package:base’:\n",
            "\n",
            "    intersect, setdiff, setequal, union\n",
            "\n",
            "\n"
          ]
        },
        {
          "output_type": "stream",
          "name": "stdout",
          "text": [
            "Rows: 35\n",
            "Columns: 10\n",
            "$ series_race \u001b[3m\u001b[90m<dbl>\u001b[39m\u001b[23m 1, 1, 1, 1, 1, 1, 1, 1, 1, 1, 1, 1, 1, 1, 1, 1, 1, 1, 1, 1…\n",
            "$ year        \u001b[3m\u001b[90m<dbl>\u001b[39m\u001b[23m 1975, 1975, 1975, 1975, 1975, 1975, 1975, 1975, 1975, 1975…\n",
            "$ race_year   \u001b[3m\u001b[90m<dbl>\u001b[39m\u001b[23m 1, 1, 1, 1, 1, 1, 1, 1, 1, 1, 1, 1, 1, 1, 1, 1, 1, 1, 1, 1…\n",
            "$ finish_pos  \u001b[3m\u001b[90m<dbl>\u001b[39m\u001b[23m 1, 2, 3, 4, 5, 6, 7, 8, 9, 10, 11, 12, 13, 14, 15, 16, 17,…\n",
            "$ start_pos   \u001b[3m\u001b[90m<dbl>\u001b[39m\u001b[23m 1, 2, 25, 27, 22, 35, 3, 21, 33, 10, 17, 24, 6, 28, 18, 11…\n",
            "$ laps_comp   \u001b[3m\u001b[90m<dbl>\u001b[39m\u001b[23m 191, 191, 184, 183, 178, 175, 172, 168, 167, 166, 166, 148…\n",
            "$ winnings    \u001b[3m\u001b[90m<dbl>\u001b[39m\u001b[23m 12035, 8135, 6535, 5035, 3835, 2885, 3185, 2485, 2335, 218…\n",
            "$ num_cars    \u001b[3m\u001b[90m<dbl>\u001b[39m\u001b[23m 35, 35, 35, 35, 35, 35, 35, 35, 35, 35, 35, 35, 35, 35, 35…\n",
            "$ car_make    \u001b[3m\u001b[90m<chr>\u001b[39m\u001b[23m \"Matador    \", \"Mercury    \", \"Chevrolet  \", \"Dodge      \"…\n",
            "$ driver      \u001b[3m\u001b[90m<chr>\u001b[39m\u001b[23m \"BobbyAllison                  \", \"DavidPearson           …\n"
          ]
        }
      ]
    },
    {
      "cell_type": "code",
      "source": [
        "cor.test(x = nascard_sr1$finish_pos,\n",
        "         y = nascard_sr1$winnings,\n",
        "         alternative = \"two.sided\",\n",
        "         method = \"pearson\")"
      ],
      "metadata": {
        "colab": {
          "base_uri": "https://localhost:8080/",
          "height": 208
        },
        "id": "cxfbzERhYrV3",
        "outputId": "89839079-c0e9-4cf0-f9f1-af992c639d11"
      },
      "execution_count": 2,
      "outputs": [
        {
          "output_type": "display_data",
          "data": {
            "text/plain": [
              "\n",
              "\tPearson's product-moment correlation\n",
              "\n",
              "data:  nascard_sr1$finish_pos and nascard_sr1$winnings\n",
              "t = -6.3181, df = 33, p-value = 3.795e-07\n",
              "alternative hypothesis: true correlation is not equal to 0\n",
              "95 percent confidence interval:\n",
              " -0.8608741 -0.5397193\n",
              "sample estimates:\n",
              "       cor \n",
              "-0.7398896 \n"
            ]
          },
          "metadata": {}
        }
      ]
    },
    {
      "cell_type": "markdown",
      "source": [
        "Explora la relación con un diagrama de dispersión. Como era de esperar, hay una relación negativa entre la posición de finalización y las ganancias, pero no es lineal."
      ],
      "metadata": {
        "id": "scFFWgn8XxWm"
      }
    },
    {
      "cell_type": "code",
      "source": [
        "library(ggplot2)\n",
        "ggplot(data = nascard_sr1, aes(x = finish_pos, y = winnings)) +\n",
        "  geom_point() +\n",
        "  geom_smooth(method = \"lm\", se = FALSE)"
      ],
      "metadata": {
        "colab": {
          "base_uri": "https://localhost:8080/",
          "height": 454
        },
        "id": "rCJplLgsXyIc",
        "outputId": "ababbc6e-643e-4dbe-e118-bbf6a551832e"
      },
      "execution_count": 3,
      "outputs": [
        {
          "output_type": "stream",
          "name": "stderr",
          "text": [
            "\u001b[1m\u001b[22m`geom_smooth()` using formula = 'y ~ x'\n"
          ]
        },
        {
          "output_type": "display_data",
          "data": {
            "text/plain": [
              "plot without title"
            ],
            "image/png": "[encoded data removed]"
          },
          "metadata": {
            "image/png": {
              "width": 420,
              "height": 420
            }
          }
        }
      ]
    },
    {
      "cell_type": "markdown",
      "source": [
        "## Spearman\n",
        "El coeficiente de correlación de Spearman, denotado comúnmente como $\\rho$ (rho), es una medida no paramétrica que evalúa la fuerza y dirección de la asociación entre dos variables clasificadas. A diferencia del coeficiente de correlación de Pearson, que mide relaciones lineales, Spearman puede detectar relaciones monótonas, ya sean lineales o no. Esto significa que si una variable aumenta, la otra tiende a aumentar (correlación positiva) o disminuir (correlación negativa), pero no necesariamente a un ritmo constante.\n",
        "\n",
        "### Cálculo del Coeficiente de Spearman\n",
        "\n",
        "El coeficiente de Spearman se calcula de la siguiente manera:\n",
        "\n",
        "1. Ordena los valores de cada variable en orden ascendente y asigna a cada uno un rango. Si hay empates, asigna a cada uno el promedio de los rangos que habrían ocupado.\n",
        "2. Calcula la diferencia de rangos ($d$) para cada par de observaciones.\n",
        "3. Inserta las diferencias de rangos en la fórmula para calcular el coeficiente de Spearman:\n",
        "\n",
        "$$ \\rho = 1 - \\frac{6 \\sum d^2}{n(n^2 - 1)} $$\n",
        "\n",
        "donde:\n",
        "- $ \\sum d^2 $ es la suma de los cuadrados de las diferencias de rangos,\n",
        "- $ n $ es el número de observaciones.\n",
        "\n",
        "### Interpretación\n",
        "\n",
        "El coeficiente de Spearman varía entre -1 y +1.\n",
        "\n",
        "- **+1**: Una correlación perfecta positiva. Si el valor de una variable aumenta, el valor de la otra variable también aumenta en una relación perfectamente predecible.\n",
        "- **-1**: Una correlación perfecta negativa. Si el valor de una variable aumenta, el valor de la otra variable disminuye en una relación perfectamente predecible.\n",
        "- **0**: No hay correlación. No existe una relación aparente entre las variaciones de las dos variables.\n",
        "\n",
        "Valores cercanos a +1 o -1 indican una fuerte correlación, mientras que valores cercanos a 0 indican una correlación débil. Es crucial recordar que, aunque Spearman puede identificar si dos variables se mueven juntas, no implica causalidad entre las variables.\n",
        "\n",
        "### Ejemplo de Interpretación\n",
        "\n",
        "Supongamos que calculamos el coeficiente de Spearman para dos variables y obtenemos un valor de 0.85. Esto indica una fuerte correlación positiva entre las variables, lo que significa que a medida que una variable aumenta, la otra tiende a aumentar también. Sin embargo, a diferencia de Pearson, no estamos afirmando que esta relación sea lineal, solo que es monótona.\n",
        "\n",
        "\n",
        "\n",
        "Prueba $$ H_0: \\rho = 0 $$ con la estadística de prueba $$ Z = \\frac{\\hat{\\rho} \\cdot \\sqrt{n-2}}{\\sqrt{1-{\\rho^{\\wedge}}^2}} $$. Como prueba no paramétrica, la correlación de rango de Spearman no produce un intervalo de confianza.\n",
        "\n",
        "**Ejemplo utilizando el coeficiente de correlación de Spearman:**\n",
        "A partir del conjunto de datos \"nascard\" mencionado anteriormente, en la carrera 1 de 1975, ¿cuál fue la correlación entre la posición de inicio del conductor (start_pos) y la posición de finalización (finish_pos)?\n",
        "\n",
        "Comienza con una exploración visual de la relación con un diagrama de dispersión. No parece haber mucha relación."
      ],
      "metadata": {
        "id": "XvIr-ukZZBIO"
      }
    },
    {
      "cell_type": "code",
      "source": [
        "library(dplyr)\n",
        "library(ggplot2)\n",
        "\n",
        "nascard_sr1 %>%\n",
        "  ggplot(aes(x = start_pos, y = finish_pos)) +\n",
        "  geom_point() +\n",
        "  geom_smooth(method = \"lm\", se = FALSE)"
      ],
      "metadata": {
        "colab": {
          "base_uri": "https://localhost:8080/",
          "height": 454
        },
        "id": "7NQkSF79Zh3y",
        "outputId": "055ebde5-45db-4eec-a4db-040f93d8fb68"
      },
      "execution_count": null,
      "outputs": [
        {
          "output_type": "stream",
          "name": "stderr",
          "text": [
            "\u001b[1m\u001b[22m`geom_smooth()` using formula = 'y ~ x'\n"
          ]
        },
        {
          "output_type": "display_data",
          "data": {
            "text/plain": [
              "plot without title"
            ],
            "image/png": "[encoded data removed]"
          },
          "metadata": {
            "image/png": {
              "width": 420,
              "height": 420
            }
          }
        }
      ]
    },
    {
      "cell_type": "markdown",
      "source": [
        "Ambas star_pos y finish_pos son variables ordinales, por lo que usa el coeficiente de correlación de Spearman en lugar de Pearson.\n",
        "\n",
        "Reemplaza los valores de las variables con sus rangos. En este caso, el valor y sus rangos son iguales porque los valores son sus rangos. Luego calcula el coeficiente de correlación de Spearman (ρ) de la misma manera que Pearson:\n",
        "\n",
        "$$ \\hat{\\rho} = \\frac{\\sum_{i=1}^{n}(X_i - \\bar{X})(Y_i - \\bar{Y})}{\\sqrt{\\sum_{i=1}^{n}(X_i - \\bar{X})^2 \\sum_{i=1}^{n}(Y_i - \\bar{Y})^2}} = -0.0384 $$"
      ],
      "metadata": {
        "id": "PIRRMKlIZoAG"
      }
    },
    {
      "cell_type": "code",
      "source": [
        "x <- rank(nascard_sr1$start_pos)\n",
        "y <- rank(nascard_sr1$finish_pos)\n",
        "\n",
        "(rho = sum((x - mean(x)) * (y - mean(y))) /\n",
        "   sqrt(sum((x - mean(x))^2) * sum((y - mean(y))^2)))"
      ],
      "metadata": {
        "colab": {
          "base_uri": "https://localhost:8080/",
          "height": 34
        },
        "id": "kF-sddXOZu34",
        "outputId": "def73526-4bf9-4c9c-dd77-bb15d6808b15"
      },
      "execution_count": null,
      "outputs": [
        {
          "output_type": "display_data",
          "data": {
            "text/html": [
              "-0.038375350140056"
            ],
            "text/markdown": "-0.038375350140056",
            "text/latex": "-0.038375350140056",
            "text/plain": [
              "[1] -0.03837535"
            ]
          },
          "metadata": {}
        }
      ]
    },
    {
      "cell_type": "code",
      "source": [
        "n <- nrow(nascard_sr1)\n",
        "(z = rho * sqrt(n-2) / sqrt(1 - rho^2))"
      ],
      "metadata": {
        "colab": {
          "base_uri": "https://localhost:8080/",
          "height": 34
        },
        "id": "kHXpiTT3Z0kH",
        "outputId": "e1ca3fdd-e1a9-48d6-ee3a-89f01b1feb61"
      },
      "execution_count": null,
      "outputs": [
        {
          "output_type": "display_data",
          "data": {
            "text/html": [
              "-0.220612106952842"
            ],
            "text/markdown": "-0.220612106952842",
            "text/latex": "-0.220612106952842",
            "text/plain": [
              "[1] -0.2206121"
            ]
          },
          "metadata": {}
        }
      ]
    },
    {
      "cell_type": "code",
      "source": [
        "pt(q = abs(z), df = n-2, lower.tail = FALSE) * 2"
      ],
      "metadata": {
        "colab": {
          "base_uri": "https://localhost:8080/",
          "height": 34
        },
        "id": "SQhbUufRZ2YG",
        "outputId": "83836721-ecd6-461d-d841-720cc4202ead"
      },
      "execution_count": null,
      "outputs": [
        {
          "output_type": "display_data",
          "data": {
            "text/html": [
              "0.826753720051731"
            ],
            "text/markdown": "0.826753720051731",
            "text/latex": "0.826753720051731",
            "text/plain": [
              "[1] 0.8267537"
            ]
          },
          "metadata": {}
        }
      ]
    },
    {
      "cell_type": "code",
      "source": [
        "cor.test(x = nascard_sr1$start_pos,\n",
        "         y = nascard_sr1$finish_pos,\n",
        "         alternative = \"two.sided\",\n",
        "         method = \"spearman\")"
      ],
      "metadata": {
        "colab": {
          "base_uri": "https://localhost:8080/",
          "height": 173
        },
        "id": "Zb6UpgrMZ4yd",
        "outputId": "b240a68d-ede4-44a9-f55c-0e9d64150bad"
      },
      "execution_count": null,
      "outputs": [
        {
          "output_type": "display_data",
          "data": {
            "text/plain": [
              "\n",
              "\tSpearman's rank correlation rho\n",
              "\n",
              "data:  nascard_sr1$start_pos and nascard_sr1$finish_pos\n",
              "S = 7414, p-value = 0.8264\n",
              "alternative hypothesis: true rho is not equal to 0\n",
              "sample estimates:\n",
              "        rho \n",
              "-0.03837535 \n"
            ]
          },
          "metadata": {}
        }
      ]
    },
    {
      "cell_type": "markdown",
      "source": [
        "## Tau de Kendall\n",
        "\n",
        "El coeficiente de correlación de rango de Kendall (Tau de Kendall) mide la relación entre variables clasificadas. Sean $ (X_i, Y_i) $ los rangos de las $ n $ parejas de la muestra. Para cada $ X_i $, cuenta $ Y > X_i $. El recuento total es $ k $. Kendall's tau se calcula mediante la fórmula:\n",
        "\n",
        "$$\\hat{\\tau} = \\frac{4k}{n(n-1)} - 1 $\n",
        "\n",
        "Ten en cuenta que si $ X $ e $ Y $ tienen el mismo orden de clasificación, $ \\hat{\\tau} = 1 $, y si tienen órdenes de clasificación opuestos, $ \\hat{\\tau} = -1 $.\n",
        "\n",
        "Prueba $ H_0: \\tau = 0 $ con la estadística de prueba $ Z = \\frac{\\hat{\\tau} \\cdot 9n(n-1)}{2(2n+5)} $. Como prueba no paramétrica, Tau de Kendall no produce un intervalo de confianza.\n",
        "\n",
        "**Ejemplo utilizando el Tau de Kendall:**\n",
        "Del conjunto de datos \"nascard\" mencionado anteriormente, en la carrera 1 de 1975, ¿cuál fue la correlación entre la posición de inicio del conductor (start_pos) y la posición de finalización (finish_pos)?\n",
        "\n",
        "Nuevamente, dado que tanto start_pos como finish_pos son variables ordinales, usamos una prueba no paramétrica. Esta vez, usamos el Tau de Kendall.\n",
        "\n",
        "Para cada observación, cuenta el número de otras observaciones donde tanto start_pos como finish_pos son mayores. La suma es $ k = 293 $. Luego, calcula Tau de Kendall como $ \\hat{\\tau} = \\frac{4 \\cdot 293}{35(35-1)} - 1 = -0.0151 $."
      ],
      "metadata": {
        "id": "5vWluZMuaBZQ"
      }
    },
    {
      "cell_type": "code",
      "source": [
        "cor.test(x = nascard_sr1$start_pos,\n",
        "         y = nascard_sr1$finish_pos,\n",
        "         alternative = \"two.sided\",\n",
        "         method = \"kendall\")"
      ],
      "metadata": {
        "colab": {
          "base_uri": "https://localhost:8080/",
          "height": 173
        },
        "id": "ZtwtRyXeaygt",
        "outputId": "246a2871-9331-44b4-fc7e-1e714c219767"
      },
      "execution_count": null,
      "outputs": [
        {
          "output_type": "display_data",
          "data": {
            "text/plain": [
              "\n",
              "\tKendall's rank correlation tau\n",
              "\n",
              "data:  nascard_sr1$start_pos and nascard_sr1$finish_pos\n",
              "T = 293, p-value = 0.9102\n",
              "alternative hypothesis: true tau is not equal to 0\n",
              "sample estimates:\n",
              "        tau \n",
              "-0.01512605 \n"
            ]
          },
          "metadata": {}
        }
      ]
    }
  ]
}